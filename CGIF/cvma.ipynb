{
 "cells": [
  {
   "attachments": {},
   "cell_type": "markdown",
   "metadata": {},
   "source": [
    "# Exploring some CVMA CGIF Data\n",
    "\n"
   ]
  },
  {
   "cell_type": "code",
   "execution_count": 9,
   "metadata": {},
   "outputs": [],
   "source": [
    "import gzip, httpx\n",
    "import pyoxigraph as px\n",
    "from rich import print"
   ]
  },
  {
   "cell_type": "code",
   "execution_count": null,
   "metadata": {},
   "outputs": [],
   "source": [
    "store = px.Store()\n",
    "store.bulk_load(gzip.open(\"cvma.ttl.gz\").read(), \"text/turtle\")"
   ]
  },
  {
   "attachments": {},
   "cell_type": "markdown",
   "metadata": {},
   "source": [
    "## An example CGIF metadata record from the CVMA website"
   ]
  },
  {
   "cell_type": "code",
   "execution_count": 10,
   "metadata": {},
   "outputs": [
    {
     "data": {
      "text/html": [
       "<pre style=\"white-space:pre;overflow-x:auto;line-height:normal;font-family:Menlo,'DejaVu Sans Mono',consolas,'Courier New',monospace\"><span style=\"font-weight: bold\">{</span>\n",
       "  <span style=\"color: #008000; text-decoration-color: #008000\">\"@context\"</span>: <span style=\"font-weight: bold\">{</span>\n",
       "    <span style=\"color: #008000; text-decoration-color: #008000\">\"schema\"</span>: <span style=\"color: #008000; text-decoration-color: #008000\">\"http://schema.org/\"</span>\n",
       "  <span style=\"font-weight: bold\">}</span>,\n",
       "  <span style=\"color: #008000; text-decoration-color: #008000\">\"@id\"</span>: <span style=\"color: #008000; text-decoration-color: #008000\">\"https://corpusvitrearum.de/id/F3431\"</span>,\n",
       "  <span style=\"color: #008000; text-decoration-color: #008000\">\"@type\"</span>: <span style=\"color: #008000; text-decoration-color: #008000\">\"schema:ImageObject\"</span>,\n",
       "  <span style=\"color: #008000; text-decoration-color: #008000\">\"schema:name\"</span>: <span style=\"font-weight: bold\">[</span>\n",
       "    <span style=\"font-weight: bold\">{</span>\n",
       "      <span style=\"color: #008000; text-decoration-color: #008000\">\"@language\"</span>: <span style=\"color: #008000; text-decoration-color: #008000\">\"de\"</span>,\n",
       "      <span style=\"color: #008000; text-decoration-color: #008000\">\"@value\"</span>: <span style=\"color: #008000; text-decoration-color: #008000\">\"Heilige Sippe\"</span>\n",
       "    <span style=\"font-weight: bold\">}</span>\n",
       "  <span style=\"font-weight: bold\">]</span>,\n",
       "  <span style=\"color: #008000; text-decoration-color: #008000\">\"schema:dateModified\"</span>: <span style=\"color: #008000; text-decoration-color: #008000\">\"2009-12-30\"</span>,\n",
       "  <span style=\"color: #008000; text-decoration-color: #008000\">\"schema:creditText\"</span>: <span style=\"color: #008000; text-decoration-color: #008000\">\"Andrea Gössel, CVMA Freiburg, CC BY-NC 4.0\"</span>,\n",
       "  <span style=\"color: #008000; text-decoration-color: #008000\">\"schema:contentLocation\"</span>: <span style=\"color: #008000; text-decoration-color: #008000\">\"Adolfseck, Deutschland\"</span>,\n",
       "  <span style=\"color: #008000; text-decoration-color: #008000\">\"schema:contentUrl\"</span>: <span style=\"color: #008000; text-decoration-color: #008000\">\"https://corpusvitrearum.de/typo3temp/cvma/_processed_/pics/original/3431.jpg\"</span>,\n",
       "  <span style=\"color: #008000; text-decoration-color: #008000\">\"schema:width\"</span>: <span style=\"color: #008000; text-decoration-color: #008000\">\"2487px\"</span>,\n",
       "  <span style=\"color: #008000; text-decoration-color: #008000\">\"schema:height\"</span>: <span style=\"color: #008000; text-decoration-color: #008000\">\"3265px\"</span>,\n",
       "  <span style=\"color: #008000; text-decoration-color: #008000\">\"schema:license\"</span>: <span style=\"font-weight: bold\">[</span>\n",
       "    <span style=\"color: #008000; text-decoration-color: #008000\">\"https://creativecommons.org/publicdomain/zero/1.0/\"</span>,\n",
       "    <span style=\"color: #008000; text-decoration-color: #008000\">\"https://creativecommons.org/licenses/by-nc/4.0/\"</span>\n",
       "  <span style=\"font-weight: bold\">]</span>,\n",
       "  <span style=\"color: #008000; text-decoration-color: #008000\">\"schema:copyrightNotice\"</span>: <span style=\"font-weight: bold\">[</span>\n",
       "    <span style=\"font-weight: bold\">{</span>\n",
       "      <span style=\"color: #008000; text-decoration-color: #008000\">\"@language\"</span>: <span style=\"color: #008000; text-decoration-color: #008000\">\"de\"</span>,\n",
       "      <span style=\"color: #008000; text-decoration-color: #008000\">\"@value\"</span>: <span style=\"color: #008000; text-decoration-color: #008000\">\"Metadaten sind per CC0 als gemeinfrei markiert während das Bild selbst unter der Lizenz CC BY-NC </span>\n",
       "<span style=\"color: #008000; text-decoration-color: #008000\">steht.\"</span>\n",
       "    <span style=\"font-weight: bold\">}</span>,\n",
       "    <span style=\"font-weight: bold\">{</span>\n",
       "      <span style=\"color: #008000; text-decoration-color: #008000\">\"@language\"</span>: <span style=\"color: #008000; text-decoration-color: #008000\">\"en\"</span>,\n",
       "      <span style=\"color: #008000; text-decoration-color: #008000\">\"@value\"</span>: <span style=\"color: #008000; text-decoration-color: #008000\">\"Metadata is provided as public-domain content via CC0 while the image itself is provided as CC </span>\n",
       "<span style=\"color: #008000; text-decoration-color: #008000\">BY-NC.\"</span>\n",
       "    <span style=\"font-weight: bold\">}</span>\n",
       "  <span style=\"font-weight: bold\">]</span>,\n",
       "  <span style=\"color: #008000; text-decoration-color: #008000\">\"schema:temporalCoverage\"</span>: <span style=\"color: #008000; text-decoration-color: #008000\">\"1495-01-01/1504-12-31\"</span>,\n",
       "  <span style=\"color: #008000; text-decoration-color: #008000\">\"schema:keywords\"</span>: <span style=\"font-weight: bold\">[</span>\n",
       "    <span style=\"font-weight: bold\">{</span>\n",
       "      <span style=\"color: #008000; text-decoration-color: #008000\">\"@id\"</span>: <span style=\"color: #008000; text-decoration-color: #008000\">\"https://iconclass.org/73A22\"</span>,\n",
       "      <span style=\"color: #008000; text-decoration-color: #008000\">\"@type\"</span>: <span style=\"color: #008000; text-decoration-color: #008000\">\"schema:DefinedTerm\"</span>,\n",
       "      <span style=\"color: #008000; text-decoration-color: #008000\">\"schema:inDefinedTermSet\"</span>: <span style=\"color: #008000; text-decoration-color: #008000\">\"https://iconclass.org/\"</span>\n",
       "    <span style=\"font-weight: bold\">}</span>,\n",
       "    <span style=\"font-weight: bold\">{</span>\n",
       "      <span style=\"color: #008000; text-decoration-color: #008000\">\"@id\"</span>: <span style=\"color: #008000; text-decoration-color: #008000\">\"http://sws.geonames.org/11127701\"</span>,\n",
       "      <span style=\"color: #008000; text-decoration-color: #008000\">\"@type\"</span>: <span style=\"color: #008000; text-decoration-color: #008000\">\"schema:DefinedTerm\"</span>,\n",
       "      <span style=\"color: #008000; text-decoration-color: #008000\">\"schema:inDefinedTermSet\"</span>: <span style=\"color: #008000; text-decoration-color: #008000\">\"https://geonames.org/\"</span>\n",
       "    <span style=\"font-weight: bold\">}</span>\n",
       "  <span style=\"font-weight: bold\">]</span>,\n",
       "  <span style=\"color: #008000; text-decoration-color: #008000\">\"schema:creator\"</span>: <span style=\"font-weight: bold\">{</span>\n",
       "    <span style=\"color: #008000; text-decoration-color: #008000\">\"@id\"</span>: <span style=\"color: #008000; text-decoration-color: #008000\">\"https://nfdi4culture.de/id/E1834\"</span>,\n",
       "    <span style=\"color: #008000; text-decoration-color: #008000\">\"@type\"</span>: <span style=\"color: #008000; text-decoration-color: #008000\">\"schema:Organization\"</span>,\n",
       "    <span style=\"color: #008000; text-decoration-color: #008000\">\"schema:name\"</span>: <span style=\"font-weight: bold\">[</span>\n",
       "      <span style=\"font-weight: bold\">{</span>\n",
       "        <span style=\"color: #008000; text-decoration-color: #008000\">\"@language\"</span>: <span style=\"color: #008000; text-decoration-color: #008000\">\"de\"</span>,\n",
       "        <span style=\"color: #008000; text-decoration-color: #008000\">\"@value\"</span>: <span style=\"color: #008000; text-decoration-color: #008000\">\"Akademie der Wissenschaften und der Literatur Mainz\"</span>\n",
       "      <span style=\"font-weight: bold\">}</span>,\n",
       "      <span style=\"font-weight: bold\">{</span>\n",
       "        <span style=\"color: #008000; text-decoration-color: #008000\">\"@language\"</span>: <span style=\"color: #008000; text-decoration-color: #008000\">\"en\"</span>,\n",
       "        <span style=\"color: #008000; text-decoration-color: #008000\">\"@value\"</span>: <span style=\"color: #008000; text-decoration-color: #008000\">\"Academy of Sciences and Literature Mainz\"</span>\n",
       "      <span style=\"font-weight: bold\">}</span>\n",
       "    <span style=\"font-weight: bold\">]</span>,\n",
       "    <span style=\"color: #008000; text-decoration-color: #008000\">\"schema:url\"</span>: <span style=\"color: #008000; text-decoration-color: #008000\">\"https://www.adwmainz.de\"</span>\n",
       "  <span style=\"font-weight: bold\">}</span>,\n",
       "  <span style=\"color: #008000; text-decoration-color: #008000\">\"schema:isPartOf\"</span>: <span style=\"font-weight: bold\">{</span>\n",
       "    <span style=\"color: #008000; text-decoration-color: #008000\">\"@id\"</span>: <span style=\"color: #008000; text-decoration-color: #008000\">\"https://corpusvitrearum.de/cvma-digital/bildarchiv.html\"</span>,\n",
       "    <span style=\"color: #008000; text-decoration-color: #008000\">\"@type\"</span>: <span style=\"color: #008000; text-decoration-color: #008000\">\"schema:Dataset\"</span>,\n",
       "    <span style=\"color: #008000; text-decoration-color: #008000\">\"schema:additionalType\"</span>: <span style=\"color: #008000; text-decoration-color: #008000\">\"schema:DataFeed\"</span>,\n",
       "    <span style=\"color: #008000; text-decoration-color: #008000\">\"schema:name\"</span>: <span style=\"font-weight: bold\">[</span>\n",
       "      <span style=\"font-weight: bold\">{</span>\n",
       "        <span style=\"color: #008000; text-decoration-color: #008000\">\"@language\"</span>: <span style=\"color: #008000; text-decoration-color: #008000\">\"de\"</span>,\n",
       "        <span style=\"color: #008000; text-decoration-color: #008000\">\"@value\"</span>: <span style=\"color: #008000; text-decoration-color: #008000\">\"Bildarchiv des Corpus Vitrearum Deutschland\"</span>\n",
       "      <span style=\"font-weight: bold\">}</span>,\n",
       "      <span style=\"font-weight: bold\">{</span>\n",
       "        <span style=\"color: #008000; text-decoration-color: #008000\">\"@language\"</span>: <span style=\"color: #008000; text-decoration-color: #008000\">\"en\"</span>,\n",
       "        <span style=\"color: #008000; text-decoration-color: #008000\">\"@value\"</span>: <span style=\"color: #008000; text-decoration-color: #008000\">\"Image Archive of the Corpus Vitrearum Germany\"</span>\n",
       "      <span style=\"font-weight: bold\">}</span>\n",
       "    <span style=\"font-weight: bold\">]</span>,\n",
       "    <span style=\"color: #008000; text-decoration-color: #008000\">\"schema:description\"</span>: <span style=\"font-weight: bold\">[</span>\n",
       "      <span style=\"font-weight: bold\">{</span>\n",
       "        <span style=\"color: #008000; text-decoration-color: #008000\">\"@language\"</span>: <span style=\"color: #008000; text-decoration-color: #008000\">\"de\"</span>,\n",
       "        <span style=\"color: #008000; text-decoration-color: #008000\">\"@value\"</span>: <span style=\"color: #008000; text-decoration-color: #008000\">\"Das digitale Bildarchiv des Corpus Vitrearum (CVMA) Deutschland stellt Gesamt- und </span>\n",
       "<span style=\"color: #008000; text-decoration-color: #008000\">Detailaufnahmen von mittelalterlichen und frühneuzeitlichen Glasmalereien zur Verfügung, die u.a. für die Buchbände</span>\n",
       "<span style=\"color: #008000; text-decoration-color: #008000\">des Projekts angefertigt und als Linked Open Data annotiert wurden.\"</span>\n",
       "      <span style=\"font-weight: bold\">}</span>,\n",
       "      <span style=\"font-weight: bold\">{</span>\n",
       "        <span style=\"color: #008000; text-decoration-color: #008000\">\"@language\"</span>: <span style=\"color: #008000; text-decoration-color: #008000\">\"en\"</span>,\n",
       "        <span style=\"color: #008000; text-decoration-color: #008000\">\"@value\"</span>: <span style=\"color: #008000; text-decoration-color: #008000\">\"The digital image archive of the Corpus Vitrearum (CVMA) Germany provides both general and </span>\n",
       "<span style=\"color: #008000; text-decoration-color: #008000\">detailed views of Medieval and Early-Modern stained-glass windows. These were, among others, produced for the </span>\n",
       "<span style=\"color: #008000; text-decoration-color: #008000\">project's printed volumes and annotated as linked open data.\"</span>\n",
       "      <span style=\"font-weight: bold\">}</span>\n",
       "    <span style=\"font-weight: bold\">]</span>,\n",
       "    <span style=\"color: #008000; text-decoration-color: #008000\">\"schema:contentLocation\"</span>: <span style=\"font-weight: bold\">[</span>\n",
       "      <span style=\"font-weight: bold\">{</span>\n",
       "        <span style=\"color: #008000; text-decoration-color: #008000\">\"@language\"</span>: <span style=\"color: #008000; text-decoration-color: #008000\">\"de\"</span>,\n",
       "        <span style=\"color: #008000; text-decoration-color: #008000\">\"@value\"</span>: <span style=\"color: #008000; text-decoration-color: #008000\">\"Deutschland\"</span>\n",
       "      <span style=\"font-weight: bold\">}</span>,\n",
       "      <span style=\"font-weight: bold\">{</span>\n",
       "        <span style=\"color: #008000; text-decoration-color: #008000\">\"@language\"</span>: <span style=\"color: #008000; text-decoration-color: #008000\">\"en\"</span>,\n",
       "        <span style=\"color: #008000; text-decoration-color: #008000\">\"@value\"</span>: <span style=\"color: #008000; text-decoration-color: #008000\">\"Germany\"</span>\n",
       "      <span style=\"font-weight: bold\">}</span>\n",
       "    <span style=\"font-weight: bold\">]</span>,\n",
       "    <span style=\"color: #008000; text-decoration-color: #008000\">\"schema:url\"</span>: <span style=\"color: #008000; text-decoration-color: #008000\">\"https://corpusvitrearum.de/cvma-digital/bildarchiv.html\"</span>,\n",
       "    <span style=\"color: #008000; text-decoration-color: #008000\">\"schema:license\"</span>: <span style=\"font-weight: bold\">[</span>\n",
       "      <span style=\"color: #008000; text-decoration-color: #008000\">\"https://creativecommons.org/publicdomain/zero/1.0/\"</span>,\n",
       "      <span style=\"color: #008000; text-decoration-color: #008000\">\"https://creativecommons.org/licenses/by-nc/4.0/\"</span>,\n",
       "      <span style=\"color: #008000; text-decoration-color: #008000\">\"https://www.deutsche-digitale-bibliothek.de/content/lizenzen/rv-fz/\"</span>\n",
       "    <span style=\"font-weight: bold\">]</span>,\n",
       "    <span style=\"color: #008000; text-decoration-color: #008000\">\"schema:isAccessibleForFree\"</span>: <span style=\"color: #008000; text-decoration-color: #008000\">\"true\"</span>,\n",
       "    <span style=\"color: #008000; text-decoration-color: #008000\">\"schema:includedInDataCatalog\"</span>: <span style=\"font-weight: bold\">{</span>\n",
       "      <span style=\"color: #008000; text-decoration-color: #008000\">\"@id\"</span>: <span style=\"color: #008000; text-decoration-color: #008000\">\"https://corpusvitrearum.de\"</span>,\n",
       "      <span style=\"color: #008000; text-decoration-color: #008000\">\"@type\"</span>: <span style=\"color: #008000; text-decoration-color: #008000\">\"schema:DataCatalog\"</span>,\n",
       "      <span style=\"color: #008000; text-decoration-color: #008000\">\"schema:name\"</span>: <span style=\"font-weight: bold\">[</span>\n",
       "        <span style=\"font-weight: bold\">{</span>\n",
       "          <span style=\"color: #008000; text-decoration-color: #008000\">\"@language\"</span>: <span style=\"color: #008000; text-decoration-color: #008000\">\"de\"</span>,\n",
       "          <span style=\"color: #008000; text-decoration-color: #008000\">\"@value\"</span>: <span style=\"color: #008000; text-decoration-color: #008000\">\"Corpus Vitrearum Deutschland\"</span>\n",
       "        <span style=\"font-weight: bold\">}</span>,\n",
       "        <span style=\"font-weight: bold\">{</span>\n",
       "          <span style=\"color: #008000; text-decoration-color: #008000\">\"@language\"</span>: <span style=\"color: #008000; text-decoration-color: #008000\">\"en\"</span>,\n",
       "          <span style=\"color: #008000; text-decoration-color: #008000\">\"@value\"</span>: <span style=\"color: #008000; text-decoration-color: #008000\">\"Corpus Vitrearum Germany\"</span>\n",
       "        <span style=\"font-weight: bold\">}</span>\n",
       "      <span style=\"font-weight: bold\">]</span>,\n",
       "      <span style=\"color: #008000; text-decoration-color: #008000\">\"schema:description\"</span>: <span style=\"font-weight: bold\">[</span>\n",
       "        <span style=\"font-weight: bold\">{</span>\n",
       "          <span style=\"color: #008000; text-decoration-color: #008000\">\"@language\"</span>: <span style=\"color: #008000; text-decoration-color: #008000\">\"de\"</span>,\n",
       "          <span style=\"color: #008000; text-decoration-color: #008000\">\"@value\"</span>: <span style=\"color: #008000; text-decoration-color: #008000\">\"Das Corpus Vitrearum (CVMA) Deutschland dokumentiert und digitalisiert mittelalterliche und </span>\n",
       "<span style=\"color: #008000; text-decoration-color: #008000\">frühneuzeitliche Glasmalereien.\"</span>\n",
       "        <span style=\"font-weight: bold\">}</span>,\n",
       "        <span style=\"font-weight: bold\">{</span>\n",
       "          <span style=\"color: #008000; text-decoration-color: #008000\">\"@language\"</span>: <span style=\"color: #008000; text-decoration-color: #008000\">\"en\"</span>,\n",
       "          <span style=\"color: #008000; text-decoration-color: #008000\">\"@value\"</span>: <span style=\"color: #008000; text-decoration-color: #008000\">\"The Corpus Vitrearum (CVMA) Germany records and digitises Medieval and Early-Modern </span>\n",
       "<span style=\"color: #008000; text-decoration-color: #008000\">stained-glass windows.\"</span>\n",
       "        <span style=\"font-weight: bold\">}</span>\n",
       "      <span style=\"font-weight: bold\">]</span>,\n",
       "      <span style=\"color: #008000; text-decoration-color: #008000\">\"schema:publisher\"</span>:<span style=\"font-weight: bold\">{</span>\n",
       "        <span style=\"color: #008000; text-decoration-color: #008000\">\"@id\"</span>: <span style=\"color: #008000; text-decoration-color: #008000\">\"https://nfdi4culture.de/id/E1834\"</span>,\n",
       "        <span style=\"color: #008000; text-decoration-color: #008000\">\"@type\"</span>: <span style=\"color: #008000; text-decoration-color: #008000\">\"schema:Organization\"</span>,\n",
       "        <span style=\"color: #008000; text-decoration-color: #008000\">\"schema:name\"</span>: <span style=\"font-weight: bold\">[</span>\n",
       "          <span style=\"font-weight: bold\">{</span>\n",
       "            <span style=\"color: #008000; text-decoration-color: #008000\">\"@language\"</span>: <span style=\"color: #008000; text-decoration-color: #008000\">\"de\"</span>,\n",
       "            <span style=\"color: #008000; text-decoration-color: #008000\">\"@value\"</span>: <span style=\"color: #008000; text-decoration-color: #008000\">\"Akademie der Wissenschaften und der Literatur Mainz\"</span>\n",
       "          <span style=\"font-weight: bold\">}</span>,\n",
       "          <span style=\"font-weight: bold\">{</span>\n",
       "            <span style=\"color: #008000; text-decoration-color: #008000\">\"@language\"</span>: <span style=\"color: #008000; text-decoration-color: #008000\">\"en\"</span>,\n",
       "            <span style=\"color: #008000; text-decoration-color: #008000\">\"@value\"</span>: <span style=\"color: #008000; text-decoration-color: #008000\">\"Academy of Sciences and Literature Mainz\"</span>\n",
       "          <span style=\"font-weight: bold\">}</span>\n",
       "        <span style=\"font-weight: bold\">]</span>,\n",
       "        <span style=\"color: #008000; text-decoration-color: #008000\">\"schema:url\"</span>: <span style=\"color: #008000; text-decoration-color: #008000\">\"https://www.adwmainz.de\"</span>\n",
       "      <span style=\"font-weight: bold\">}</span>\n",
       "    <span style=\"font-weight: bold\">}</span>,\n",
       "    <span style=\"color: #008000; text-decoration-color: #008000\">\"schema:creator\"</span>: <span style=\"font-weight: bold\">[</span>\n",
       "      <span style=\"font-weight: bold\">{</span>\n",
       "        <span style=\"color: #008000; text-decoration-color: #008000\">\"@id\"</span>: <span style=\"color: #008000; text-decoration-color: #008000\">\"https://nfdi4culture.de/id/E1834\"</span>,\n",
       "        <span style=\"color: #008000; text-decoration-color: #008000\">\"@type\"</span>: <span style=\"color: #008000; text-decoration-color: #008000\">\"schema:Organization\"</span>,\n",
       "        <span style=\"color: #008000; text-decoration-color: #008000\">\"schema:name\"</span>: <span style=\"font-weight: bold\">[</span>\n",
       "          <span style=\"font-weight: bold\">{</span>\n",
       "            <span style=\"color: #008000; text-decoration-color: #008000\">\"@language\"</span>: <span style=\"color: #008000; text-decoration-color: #008000\">\"de\"</span>,\n",
       "            <span style=\"color: #008000; text-decoration-color: #008000\">\"@value\"</span>: <span style=\"color: #008000; text-decoration-color: #008000\">\"Akademie der Wissenschaften und der Literatur Mainz\"</span>\n",
       "          <span style=\"font-weight: bold\">}</span>,\n",
       "          <span style=\"font-weight: bold\">{</span>\n",
       "            <span style=\"color: #008000; text-decoration-color: #008000\">\"@language\"</span>: <span style=\"color: #008000; text-decoration-color: #008000\">\"en\"</span>,\n",
       "            <span style=\"color: #008000; text-decoration-color: #008000\">\"@value\"</span>: <span style=\"color: #008000; text-decoration-color: #008000\">\"Academy of Sciences and Literature Mainz\"</span>\n",
       "          <span style=\"font-weight: bold\">}</span>\n",
       "        <span style=\"font-weight: bold\">]</span>,\n",
       "        <span style=\"color: #008000; text-decoration-color: #008000\">\"schema:url\"</span>: <span style=\"color: #008000; text-decoration-color: #008000\">\"https://www.adwmainz.de\"</span>\n",
       "      <span style=\"font-weight: bold\">}</span>,\n",
       "      <span style=\"font-weight: bold\">{</span>\n",
       "        <span style=\"color: #008000; text-decoration-color: #008000\">\"@id\"</span>: <span style=\"color: #008000; text-decoration-color: #008000\">\"https://nfdi4culture.de/id/E2431\"</span>,\n",
       "        <span style=\"color: #008000; text-decoration-color: #008000\">\"@type\"</span>: <span style=\"color: #008000; text-decoration-color: #008000\">\"schema:Organization\"</span>,\n",
       "        <span style=\"color: #008000; text-decoration-color: #008000\">\"schema:name\"</span>: <span style=\"font-weight: bold\">[</span>\n",
       "          <span style=\"font-weight: bold\">{</span>\n",
       "            <span style=\"color: #008000; text-decoration-color: #008000\">\"@language\"</span>: <span style=\"color: #008000; text-decoration-color: #008000\">\"de\"</span>,\n",
       "            <span style=\"color: #008000; text-decoration-color: #008000\">\"@value\"</span>: <span style=\"color: #008000; text-decoration-color: #008000\">\"Berlin-Brandenburgische Akademie der Wissenschaften\"</span>\n",
       "          <span style=\"font-weight: bold\">}</span>,\n",
       "          <span style=\"font-weight: bold\">{</span>\n",
       "            <span style=\"color: #008000; text-decoration-color: #008000\">\"@language\"</span>: <span style=\"color: #008000; text-decoration-color: #008000\">\"en\"</span>,\n",
       "            <span style=\"color: #008000; text-decoration-color: #008000\">\"@value\"</span>: <span style=\"color: #008000; text-decoration-color: #008000\">\"Berlin-Brandenburg Academy of Sciences\"</span>\n",
       "          <span style=\"font-weight: bold\">}</span>\n",
       "        <span style=\"font-weight: bold\">]</span>,\n",
       "        <span style=\"color: #008000; text-decoration-color: #008000\">\"schema:url\"</span>: <span style=\"color: #008000; text-decoration-color: #008000\">\"https://www.bbaw.de\"</span>\n",
       "      <span style=\"font-weight: bold\">}</span>\n",
       "    <span style=\"font-weight: bold\">]</span>\n",
       "  <span style=\"font-weight: bold\">}</span>\n",
       "<span style=\"font-weight: bold\">}</span>\n",
       "</pre>\n"
      ],
      "text/plain": [
       "\u001b[1m{\u001b[0m\n",
       "  \u001b[32m\"@context\"\u001b[0m: \u001b[1m{\u001b[0m\n",
       "    \u001b[32m\"schema\"\u001b[0m: \u001b[32m\"http://schema.org/\"\u001b[0m\n",
       "  \u001b[1m}\u001b[0m,\n",
       "  \u001b[32m\"@id\"\u001b[0m: \u001b[32m\"https://corpusvitrearum.de/id/F3431\"\u001b[0m,\n",
       "  \u001b[32m\"@type\"\u001b[0m: \u001b[32m\"schema:ImageObject\"\u001b[0m,\n",
       "  \u001b[32m\"schema:name\"\u001b[0m: \u001b[1m[\u001b[0m\n",
       "    \u001b[1m{\u001b[0m\n",
       "      \u001b[32m\"@language\"\u001b[0m: \u001b[32m\"de\"\u001b[0m,\n",
       "      \u001b[32m\"@value\"\u001b[0m: \u001b[32m\"Heilige Sippe\"\u001b[0m\n",
       "    \u001b[1m}\u001b[0m\n",
       "  \u001b[1m]\u001b[0m,\n",
       "  \u001b[32m\"schema:dateModified\"\u001b[0m: \u001b[32m\"2009-12-30\"\u001b[0m,\n",
       "  \u001b[32m\"schema:creditText\"\u001b[0m: \u001b[32m\"Andrea Gössel, CVMA Freiburg, CC BY-NC 4.0\"\u001b[0m,\n",
       "  \u001b[32m\"schema:contentLocation\"\u001b[0m: \u001b[32m\"Adolfseck, Deutschland\"\u001b[0m,\n",
       "  \u001b[32m\"schema:contentUrl\"\u001b[0m: \u001b[32m\"https://corpusvitrearum.de/typo3temp/cvma/_processed_/pics/original/3431.jpg\"\u001b[0m,\n",
       "  \u001b[32m\"schema:width\"\u001b[0m: \u001b[32m\"2487px\"\u001b[0m,\n",
       "  \u001b[32m\"schema:height\"\u001b[0m: \u001b[32m\"3265px\"\u001b[0m,\n",
       "  \u001b[32m\"schema:license\"\u001b[0m: \u001b[1m[\u001b[0m\n",
       "    \u001b[32m\"https://creativecommons.org/publicdomain/zero/1.0/\"\u001b[0m,\n",
       "    \u001b[32m\"https://creativecommons.org/licenses/by-nc/4.0/\"\u001b[0m\n",
       "  \u001b[1m]\u001b[0m,\n",
       "  \u001b[32m\"schema:copyrightNotice\"\u001b[0m: \u001b[1m[\u001b[0m\n",
       "    \u001b[1m{\u001b[0m\n",
       "      \u001b[32m\"@language\"\u001b[0m: \u001b[32m\"de\"\u001b[0m,\n",
       "      \u001b[32m\"@value\"\u001b[0m: \u001b[32m\"Metadaten sind per CC0 als gemeinfrei markiert während das Bild selbst unter der Lizenz CC BY-NC \u001b[0m\n",
       "\u001b[32msteht.\"\u001b[0m\n",
       "    \u001b[1m}\u001b[0m,\n",
       "    \u001b[1m{\u001b[0m\n",
       "      \u001b[32m\"@language\"\u001b[0m: \u001b[32m\"en\"\u001b[0m,\n",
       "      \u001b[32m\"@value\"\u001b[0m: \u001b[32m\"Metadata is provided as public-domain content via CC0 while the image itself is provided as CC \u001b[0m\n",
       "\u001b[32mBY-NC.\"\u001b[0m\n",
       "    \u001b[1m}\u001b[0m\n",
       "  \u001b[1m]\u001b[0m,\n",
       "  \u001b[32m\"schema:temporalCoverage\"\u001b[0m: \u001b[32m\"1495-01-01/1504-12-31\"\u001b[0m,\n",
       "  \u001b[32m\"schema:keywords\"\u001b[0m: \u001b[1m[\u001b[0m\n",
       "    \u001b[1m{\u001b[0m\n",
       "      \u001b[32m\"@id\"\u001b[0m: \u001b[32m\"https://iconclass.org/73A22\"\u001b[0m,\n",
       "      \u001b[32m\"@type\"\u001b[0m: \u001b[32m\"schema:DefinedTerm\"\u001b[0m,\n",
       "      \u001b[32m\"schema:inDefinedTermSet\"\u001b[0m: \u001b[32m\"https://iconclass.org/\"\u001b[0m\n",
       "    \u001b[1m}\u001b[0m,\n",
       "    \u001b[1m{\u001b[0m\n",
       "      \u001b[32m\"@id\"\u001b[0m: \u001b[32m\"http://sws.geonames.org/11127701\"\u001b[0m,\n",
       "      \u001b[32m\"@type\"\u001b[0m: \u001b[32m\"schema:DefinedTerm\"\u001b[0m,\n",
       "      \u001b[32m\"schema:inDefinedTermSet\"\u001b[0m: \u001b[32m\"https://geonames.org/\"\u001b[0m\n",
       "    \u001b[1m}\u001b[0m\n",
       "  \u001b[1m]\u001b[0m,\n",
       "  \u001b[32m\"schema:creator\"\u001b[0m: \u001b[1m{\u001b[0m\n",
       "    \u001b[32m\"@id\"\u001b[0m: \u001b[32m\"https://nfdi4culture.de/id/E1834\"\u001b[0m,\n",
       "    \u001b[32m\"@type\"\u001b[0m: \u001b[32m\"schema:Organization\"\u001b[0m,\n",
       "    \u001b[32m\"schema:name\"\u001b[0m: \u001b[1m[\u001b[0m\n",
       "      \u001b[1m{\u001b[0m\n",
       "        \u001b[32m\"@language\"\u001b[0m: \u001b[32m\"de\"\u001b[0m,\n",
       "        \u001b[32m\"@value\"\u001b[0m: \u001b[32m\"Akademie der Wissenschaften und der Literatur Mainz\"\u001b[0m\n",
       "      \u001b[1m}\u001b[0m,\n",
       "      \u001b[1m{\u001b[0m\n",
       "        \u001b[32m\"@language\"\u001b[0m: \u001b[32m\"en\"\u001b[0m,\n",
       "        \u001b[32m\"@value\"\u001b[0m: \u001b[32m\"Academy of Sciences and Literature Mainz\"\u001b[0m\n",
       "      \u001b[1m}\u001b[0m\n",
       "    \u001b[1m]\u001b[0m,\n",
       "    \u001b[32m\"schema:url\"\u001b[0m: \u001b[32m\"https://www.adwmainz.de\"\u001b[0m\n",
       "  \u001b[1m}\u001b[0m,\n",
       "  \u001b[32m\"schema:isPartOf\"\u001b[0m: \u001b[1m{\u001b[0m\n",
       "    \u001b[32m\"@id\"\u001b[0m: \u001b[32m\"https://corpusvitrearum.de/cvma-digital/bildarchiv.html\"\u001b[0m,\n",
       "    \u001b[32m\"@type\"\u001b[0m: \u001b[32m\"schema:Dataset\"\u001b[0m,\n",
       "    \u001b[32m\"schema:additionalType\"\u001b[0m: \u001b[32m\"schema:DataFeed\"\u001b[0m,\n",
       "    \u001b[32m\"schema:name\"\u001b[0m: \u001b[1m[\u001b[0m\n",
       "      \u001b[1m{\u001b[0m\n",
       "        \u001b[32m\"@language\"\u001b[0m: \u001b[32m\"de\"\u001b[0m,\n",
       "        \u001b[32m\"@value\"\u001b[0m: \u001b[32m\"Bildarchiv des Corpus Vitrearum Deutschland\"\u001b[0m\n",
       "      \u001b[1m}\u001b[0m,\n",
       "      \u001b[1m{\u001b[0m\n",
       "        \u001b[32m\"@language\"\u001b[0m: \u001b[32m\"en\"\u001b[0m,\n",
       "        \u001b[32m\"@value\"\u001b[0m: \u001b[32m\"Image Archive of the Corpus Vitrearum Germany\"\u001b[0m\n",
       "      \u001b[1m}\u001b[0m\n",
       "    \u001b[1m]\u001b[0m,\n",
       "    \u001b[32m\"schema:description\"\u001b[0m: \u001b[1m[\u001b[0m\n",
       "      \u001b[1m{\u001b[0m\n",
       "        \u001b[32m\"@language\"\u001b[0m: \u001b[32m\"de\"\u001b[0m,\n",
       "        \u001b[32m\"@value\"\u001b[0m: \u001b[32m\"Das digitale Bildarchiv des Corpus Vitrearum \u001b[0m\u001b[32m(\u001b[0m\u001b[32mCVMA\u001b[0m\u001b[32m)\u001b[0m\u001b[32m Deutschland stellt Gesamt- und \u001b[0m\n",
       "\u001b[32mDetailaufnahmen von mittelalterlichen und frühneuzeitlichen Glasmalereien zur Verfügung, die u.a. für die Buchbände\u001b[0m\n",
       "\u001b[32mdes Projekts angefertigt und als Linked Open Data annotiert wurden.\"\u001b[0m\n",
       "      \u001b[1m}\u001b[0m,\n",
       "      \u001b[1m{\u001b[0m\n",
       "        \u001b[32m\"@language\"\u001b[0m: \u001b[32m\"en\"\u001b[0m,\n",
       "        \u001b[32m\"@value\"\u001b[0m: \u001b[32m\"The digital image archive of the Corpus Vitrearum \u001b[0m\u001b[32m(\u001b[0m\u001b[32mCVMA\u001b[0m\u001b[32m)\u001b[0m\u001b[32m Germany provides both general and \u001b[0m\n",
       "\u001b[32mdetailed views of Medieval and Early-Modern stained-glass windows. These were, among others, produced for the \u001b[0m\n",
       "\u001b[32mproject's printed volumes and annotated as linked open data.\"\u001b[0m\n",
       "      \u001b[1m}\u001b[0m\n",
       "    \u001b[1m]\u001b[0m,\n",
       "    \u001b[32m\"schema:contentLocation\"\u001b[0m: \u001b[1m[\u001b[0m\n",
       "      \u001b[1m{\u001b[0m\n",
       "        \u001b[32m\"@language\"\u001b[0m: \u001b[32m\"de\"\u001b[0m,\n",
       "        \u001b[32m\"@value\"\u001b[0m: \u001b[32m\"Deutschland\"\u001b[0m\n",
       "      \u001b[1m}\u001b[0m,\n",
       "      \u001b[1m{\u001b[0m\n",
       "        \u001b[32m\"@language\"\u001b[0m: \u001b[32m\"en\"\u001b[0m,\n",
       "        \u001b[32m\"@value\"\u001b[0m: \u001b[32m\"Germany\"\u001b[0m\n",
       "      \u001b[1m}\u001b[0m\n",
       "    \u001b[1m]\u001b[0m,\n",
       "    \u001b[32m\"schema:url\"\u001b[0m: \u001b[32m\"https://corpusvitrearum.de/cvma-digital/bildarchiv.html\"\u001b[0m,\n",
       "    \u001b[32m\"schema:license\"\u001b[0m: \u001b[1m[\u001b[0m\n",
       "      \u001b[32m\"https://creativecommons.org/publicdomain/zero/1.0/\"\u001b[0m,\n",
       "      \u001b[32m\"https://creativecommons.org/licenses/by-nc/4.0/\"\u001b[0m,\n",
       "      \u001b[32m\"https://www.deutsche-digitale-bibliothek.de/content/lizenzen/rv-fz/\"\u001b[0m\n",
       "    \u001b[1m]\u001b[0m,\n",
       "    \u001b[32m\"schema:isAccessibleForFree\"\u001b[0m: \u001b[32m\"true\"\u001b[0m,\n",
       "    \u001b[32m\"schema:includedInDataCatalog\"\u001b[0m: \u001b[1m{\u001b[0m\n",
       "      \u001b[32m\"@id\"\u001b[0m: \u001b[32m\"https://corpusvitrearum.de\"\u001b[0m,\n",
       "      \u001b[32m\"@type\"\u001b[0m: \u001b[32m\"schema:DataCatalog\"\u001b[0m,\n",
       "      \u001b[32m\"schema:name\"\u001b[0m: \u001b[1m[\u001b[0m\n",
       "        \u001b[1m{\u001b[0m\n",
       "          \u001b[32m\"@language\"\u001b[0m: \u001b[32m\"de\"\u001b[0m,\n",
       "          \u001b[32m\"@value\"\u001b[0m: \u001b[32m\"Corpus Vitrearum Deutschland\"\u001b[0m\n",
       "        \u001b[1m}\u001b[0m,\n",
       "        \u001b[1m{\u001b[0m\n",
       "          \u001b[32m\"@language\"\u001b[0m: \u001b[32m\"en\"\u001b[0m,\n",
       "          \u001b[32m\"@value\"\u001b[0m: \u001b[32m\"Corpus Vitrearum Germany\"\u001b[0m\n",
       "        \u001b[1m}\u001b[0m\n",
       "      \u001b[1m]\u001b[0m,\n",
       "      \u001b[32m\"schema:description\"\u001b[0m: \u001b[1m[\u001b[0m\n",
       "        \u001b[1m{\u001b[0m\n",
       "          \u001b[32m\"@language\"\u001b[0m: \u001b[32m\"de\"\u001b[0m,\n",
       "          \u001b[32m\"@value\"\u001b[0m: \u001b[32m\"Das Corpus Vitrearum \u001b[0m\u001b[32m(\u001b[0m\u001b[32mCVMA\u001b[0m\u001b[32m)\u001b[0m\u001b[32m Deutschland dokumentiert und digitalisiert mittelalterliche und \u001b[0m\n",
       "\u001b[32mfrühneuzeitliche Glasmalereien.\"\u001b[0m\n",
       "        \u001b[1m}\u001b[0m,\n",
       "        \u001b[1m{\u001b[0m\n",
       "          \u001b[32m\"@language\"\u001b[0m: \u001b[32m\"en\"\u001b[0m,\n",
       "          \u001b[32m\"@value\"\u001b[0m: \u001b[32m\"The Corpus Vitrearum \u001b[0m\u001b[32m(\u001b[0m\u001b[32mCVMA\u001b[0m\u001b[32m)\u001b[0m\u001b[32m Germany records and digitises Medieval and Early-Modern \u001b[0m\n",
       "\u001b[32mstained-glass windows.\"\u001b[0m\n",
       "        \u001b[1m}\u001b[0m\n",
       "      \u001b[1m]\u001b[0m,\n",
       "      \u001b[32m\"schema:publisher\"\u001b[0m:\u001b[1m{\u001b[0m\n",
       "        \u001b[32m\"@id\"\u001b[0m: \u001b[32m\"https://nfdi4culture.de/id/E1834\"\u001b[0m,\n",
       "        \u001b[32m\"@type\"\u001b[0m: \u001b[32m\"schema:Organization\"\u001b[0m,\n",
       "        \u001b[32m\"schema:name\"\u001b[0m: \u001b[1m[\u001b[0m\n",
       "          \u001b[1m{\u001b[0m\n",
       "            \u001b[32m\"@language\"\u001b[0m: \u001b[32m\"de\"\u001b[0m,\n",
       "            \u001b[32m\"@value\"\u001b[0m: \u001b[32m\"Akademie der Wissenschaften und der Literatur Mainz\"\u001b[0m\n",
       "          \u001b[1m}\u001b[0m,\n",
       "          \u001b[1m{\u001b[0m\n",
       "            \u001b[32m\"@language\"\u001b[0m: \u001b[32m\"en\"\u001b[0m,\n",
       "            \u001b[32m\"@value\"\u001b[0m: \u001b[32m\"Academy of Sciences and Literature Mainz\"\u001b[0m\n",
       "          \u001b[1m}\u001b[0m\n",
       "        \u001b[1m]\u001b[0m,\n",
       "        \u001b[32m\"schema:url\"\u001b[0m: \u001b[32m\"https://www.adwmainz.de\"\u001b[0m\n",
       "      \u001b[1m}\u001b[0m\n",
       "    \u001b[1m}\u001b[0m,\n",
       "    \u001b[32m\"schema:creator\"\u001b[0m: \u001b[1m[\u001b[0m\n",
       "      \u001b[1m{\u001b[0m\n",
       "        \u001b[32m\"@id\"\u001b[0m: \u001b[32m\"https://nfdi4culture.de/id/E1834\"\u001b[0m,\n",
       "        \u001b[32m\"@type\"\u001b[0m: \u001b[32m\"schema:Organization\"\u001b[0m,\n",
       "        \u001b[32m\"schema:name\"\u001b[0m: \u001b[1m[\u001b[0m\n",
       "          \u001b[1m{\u001b[0m\n",
       "            \u001b[32m\"@language\"\u001b[0m: \u001b[32m\"de\"\u001b[0m,\n",
       "            \u001b[32m\"@value\"\u001b[0m: \u001b[32m\"Akademie der Wissenschaften und der Literatur Mainz\"\u001b[0m\n",
       "          \u001b[1m}\u001b[0m,\n",
       "          \u001b[1m{\u001b[0m\n",
       "            \u001b[32m\"@language\"\u001b[0m: \u001b[32m\"en\"\u001b[0m,\n",
       "            \u001b[32m\"@value\"\u001b[0m: \u001b[32m\"Academy of Sciences and Literature Mainz\"\u001b[0m\n",
       "          \u001b[1m}\u001b[0m\n",
       "        \u001b[1m]\u001b[0m,\n",
       "        \u001b[32m\"schema:url\"\u001b[0m: \u001b[32m\"https://www.adwmainz.de\"\u001b[0m\n",
       "      \u001b[1m}\u001b[0m,\n",
       "      \u001b[1m{\u001b[0m\n",
       "        \u001b[32m\"@id\"\u001b[0m: \u001b[32m\"https://nfdi4culture.de/id/E2431\"\u001b[0m,\n",
       "        \u001b[32m\"@type\"\u001b[0m: \u001b[32m\"schema:Organization\"\u001b[0m,\n",
       "        \u001b[32m\"schema:name\"\u001b[0m: \u001b[1m[\u001b[0m\n",
       "          \u001b[1m{\u001b[0m\n",
       "            \u001b[32m\"@language\"\u001b[0m: \u001b[32m\"de\"\u001b[0m,\n",
       "            \u001b[32m\"@value\"\u001b[0m: \u001b[32m\"Berlin-Brandenburgische Akademie der Wissenschaften\"\u001b[0m\n",
       "          \u001b[1m}\u001b[0m,\n",
       "          \u001b[1m{\u001b[0m\n",
       "            \u001b[32m\"@language\"\u001b[0m: \u001b[32m\"en\"\u001b[0m,\n",
       "            \u001b[32m\"@value\"\u001b[0m: \u001b[32m\"Berlin-Brandenburg Academy of Sciences\"\u001b[0m\n",
       "          \u001b[1m}\u001b[0m\n",
       "        \u001b[1m]\u001b[0m,\n",
       "        \u001b[32m\"schema:url\"\u001b[0m: \u001b[32m\"https://www.bbaw.de\"\u001b[0m\n",
       "      \u001b[1m}\u001b[0m\n",
       "    \u001b[1m]\u001b[0m\n",
       "  \u001b[1m}\u001b[0m\n",
       "\u001b[1m}\u001b[0m\n"
      ]
     },
     "metadata": {},
     "output_type": "display_data"
    }
   ],
   "source": [
    "r = httpx.get(\"https://corpusvitrearum.de/id/F3431/about.cgif\")\n",
    "print(r.text)"
   ]
  },
  {
   "attachments": {},
   "cell_type": "markdown",
   "metadata": {},
   "source": [
    "## the same record from the CVMA CGIF TTL dump"
   ]
  },
  {
   "cell_type": "code",
   "execution_count": 11,
   "metadata": {},
   "outputs": [
    {
     "data": {
      "text/html": [
       "<pre style=\"white-space:pre;overflow-x:auto;line-height:normal;font-family:Menlo,'DejaVu Sans Mono',consolas,'Courier New',monospace\"><span style=\"font-weight: bold\">&lt;</span><span style=\"color: #0000ff; text-decoration-color: #0000ff; text-decoration: underline\">https://corpusvitrearum.de/id/F3431</span><span style=\"font-weight: bold\">&gt;</span> <span style=\"font-weight: bold\">&lt;</span><span style=\"color: #0000ff; text-decoration-color: #0000ff; text-decoration: underline\">http://schema.org/contentUrl</span><span style=\"font-weight: bold\">&gt;</span> \n",
       "<span style=\"color: #008000; text-decoration-color: #008000\">\"https://corpusvitrearum.de/typo3temp/cvma/_processed_/pics/original/3431.jpg\"</span>\n",
       "</pre>\n"
      ],
      "text/plain": [
       "\u001b[1m<\u001b[0m\u001b[4;94mhttps:\u001b[0m\u001b[4;94m//corpusvitrearum.de/id/F3431\u001b[0m\u001b[1m>\u001b[0m \u001b[1m<\u001b[0m\u001b[4;94mhttp:\u001b[0m\u001b[4;94m//schema.org/contentUrl\u001b[0m\u001b[1m>\u001b[0m \n",
       "\u001b[32m\"https://corpusvitrearum.de/typo3temp/cvma/_processed_/pics/original/3431.jpg\"\u001b[0m\n"
      ]
     },
     "metadata": {},
     "output_type": "display_data"
    },
    {
     "data": {
      "text/html": [
       "<pre style=\"white-space:pre;overflow-x:auto;line-height:normal;font-family:Menlo,'DejaVu Sans Mono',consolas,'Courier New',monospace\"><span style=\"font-weight: bold\">&lt;</span><span style=\"color: #0000ff; text-decoration-color: #0000ff; text-decoration: underline\">https://corpusvitrearum.de/id/F3431</span><span style=\"font-weight: bold\">&gt;</span> <span style=\"font-weight: bold\">&lt;</span><span style=\"color: #0000ff; text-decoration-color: #0000ff; text-decoration: underline\">http://schema.org/isPartOf</span><span style=\"font-weight: bold\">&gt;</span> <span style=\"font-weight: bold\">&lt;</span><span style=\"color: #0000ff; text-decoration-color: #0000ff; text-decoration: underline\">https://corpusvitrearum.de/bildarchiv.html</span><span style=\"font-weight: bold\">&gt;</span>\n",
       "</pre>\n"
      ],
      "text/plain": [
       "\u001b[1m<\u001b[0m\u001b[4;94mhttps:\u001b[0m\u001b[4;94m//corpusvitrearum.de/id/F3431\u001b[0m\u001b[1m>\u001b[0m \u001b[1m<\u001b[0m\u001b[4;94mhttp:\u001b[0m\u001b[4;94m//schema.org/isPartOf\u001b[0m\u001b[1m>\u001b[0m \u001b[1m<\u001b[0m\u001b[4;94mhttps:\u001b[0m\u001b[4;94m//corpusvitrearum.de/bildarchiv.html\u001b[0m\u001b[1m>\u001b[0m\n"
      ]
     },
     "metadata": {},
     "output_type": "display_data"
    },
    {
     "data": {
      "text/html": [
       "<pre style=\"white-space:pre;overflow-x:auto;line-height:normal;font-family:Menlo,'DejaVu Sans Mono',consolas,'Courier New',monospace\"><span style=\"font-weight: bold\">&lt;</span><span style=\"color: #0000ff; text-decoration-color: #0000ff; text-decoration: underline\">https://corpusvitrearum.de/id/F3431</span><span style=\"font-weight: bold\">&gt;</span> <span style=\"font-weight: bold\">&lt;</span><span style=\"color: #0000ff; text-decoration-color: #0000ff; text-decoration: underline\">http://schema.org/keywords</span><span style=\"font-weight: bold\">&gt;</span> <span style=\"font-weight: bold\">&lt;</span><span style=\"color: #0000ff; text-decoration-color: #0000ff; text-decoration: underline\">https://iconclass.org/73A22</span><span style=\"font-weight: bold\">&gt;</span>\n",
       "</pre>\n"
      ],
      "text/plain": [
       "\u001b[1m<\u001b[0m\u001b[4;94mhttps:\u001b[0m\u001b[4;94m//corpusvitrearum.de/id/F3431\u001b[0m\u001b[1m>\u001b[0m \u001b[1m<\u001b[0m\u001b[4;94mhttp:\u001b[0m\u001b[4;94m//schema.org/keywords\u001b[0m\u001b[1m>\u001b[0m \u001b[1m<\u001b[0m\u001b[4;94mhttps:\u001b[0m\u001b[4;94m//iconclass.org/73A22\u001b[0m\u001b[1m>\u001b[0m\n"
      ]
     },
     "metadata": {},
     "output_type": "display_data"
    },
    {
     "data": {
      "text/html": [
       "<pre style=\"white-space:pre;overflow-x:auto;line-height:normal;font-family:Menlo,'DejaVu Sans Mono',consolas,'Courier New',monospace\"><span style=\"font-weight: bold\">&lt;</span><span style=\"color: #0000ff; text-decoration-color: #0000ff; text-decoration: underline\">https://corpusvitrearum.de/id/F3431</span><span style=\"font-weight: bold\">&gt;</span> <span style=\"font-weight: bold\">&lt;</span><span style=\"color: #0000ff; text-decoration-color: #0000ff; text-decoration: underline\">http://schema.org/keywords</span><span style=\"font-weight: bold\">&gt;</span> <span style=\"font-weight: bold\">&lt;</span><span style=\"color: #0000ff; text-decoration-color: #0000ff; text-decoration: underline\">http://sws.geonames.org/11127701</span><span style=\"font-weight: bold\">&gt;</span>\n",
       "</pre>\n"
      ],
      "text/plain": [
       "\u001b[1m<\u001b[0m\u001b[4;94mhttps:\u001b[0m\u001b[4;94m//corpusvitrearum.de/id/F3431\u001b[0m\u001b[1m>\u001b[0m \u001b[1m<\u001b[0m\u001b[4;94mhttp:\u001b[0m\u001b[4;94m//schema.org/keywords\u001b[0m\u001b[1m>\u001b[0m \u001b[1m<\u001b[0m\u001b[4;94mhttp:\u001b[0m\u001b[4;94m//sws.geonames.org/11127701\u001b[0m\u001b[1m>\u001b[0m\n"
      ]
     },
     "metadata": {},
     "output_type": "display_data"
    },
    {
     "data": {
      "text/html": [
       "<pre style=\"white-space:pre;overflow-x:auto;line-height:normal;font-family:Menlo,'DejaVu Sans Mono',consolas,'Courier New',monospace\"><span style=\"font-weight: bold\">&lt;</span><span style=\"color: #0000ff; text-decoration-color: #0000ff; text-decoration: underline\">https://corpusvitrearum.de/id/F3431</span><span style=\"font-weight: bold\">&gt;</span> <span style=\"font-weight: bold\">&lt;</span><span style=\"color: #0000ff; text-decoration-color: #0000ff; text-decoration: underline\">http://schema.org/copyrightNotice</span><span style=\"font-weight: bold\">&gt;</span> <span style=\"color: #008000; text-decoration-color: #008000\">\"Metadaten sind per CC0 als gemeinfrei </span>\n",
       "<span style=\"color: #008000; text-decoration-color: #008000\">markiert während das Bild selbst unter der Lizenz CC BY-NC steht.\"</span>@de\n",
       "</pre>\n"
      ],
      "text/plain": [
       "\u001b[1m<\u001b[0m\u001b[4;94mhttps:\u001b[0m\u001b[4;94m//corpusvitrearum.de/id/F3431\u001b[0m\u001b[1m>\u001b[0m \u001b[1m<\u001b[0m\u001b[4;94mhttp:\u001b[0m\u001b[4;94m//schema.org/copyrightNotice\u001b[0m\u001b[1m>\u001b[0m \u001b[32m\"Metadaten sind per CC0 als gemeinfrei \u001b[0m\n",
       "\u001b[32mmarkiert während das Bild selbst unter der Lizenz CC BY-NC steht.\"\u001b[0m@de\n"
      ]
     },
     "metadata": {},
     "output_type": "display_data"
    },
    {
     "data": {
      "text/html": [
       "<pre style=\"white-space:pre;overflow-x:auto;line-height:normal;font-family:Menlo,'DejaVu Sans Mono',consolas,'Courier New',monospace\"><span style=\"font-weight: bold\">&lt;</span><span style=\"color: #0000ff; text-decoration-color: #0000ff; text-decoration: underline\">https://corpusvitrearum.de/id/F3431</span><span style=\"font-weight: bold\">&gt;</span> <span style=\"font-weight: bold\">&lt;</span><span style=\"color: #0000ff; text-decoration-color: #0000ff; text-decoration: underline\">http://schema.org/copyrightNotice</span><span style=\"font-weight: bold\">&gt;</span> <span style=\"color: #008000; text-decoration-color: #008000\">\"Metadata is provided as public-domain </span>\n",
       "<span style=\"color: #008000; text-decoration-color: #008000\">content via CC0 while the image itself is provided as CC BY-NC.\"</span>@en\n",
       "</pre>\n"
      ],
      "text/plain": [
       "\u001b[1m<\u001b[0m\u001b[4;94mhttps:\u001b[0m\u001b[4;94m//corpusvitrearum.de/id/F3431\u001b[0m\u001b[1m>\u001b[0m \u001b[1m<\u001b[0m\u001b[4;94mhttp:\u001b[0m\u001b[4;94m//schema.org/copyrightNotice\u001b[0m\u001b[1m>\u001b[0m \u001b[32m\"Metadata is provided as public-domain \u001b[0m\n",
       "\u001b[32mcontent via CC0 while the image itself is provided as CC BY-NC.\"\u001b[0m@en\n"
      ]
     },
     "metadata": {},
     "output_type": "display_data"
    },
    {
     "data": {
      "text/html": [
       "<pre style=\"white-space:pre;overflow-x:auto;line-height:normal;font-family:Menlo,'DejaVu Sans Mono',consolas,'Courier New',monospace\"><span style=\"font-weight: bold\">&lt;</span><span style=\"color: #0000ff; text-decoration-color: #0000ff; text-decoration: underline\">https://corpusvitrearum.de/id/F3431</span><span style=\"font-weight: bold\">&gt;</span> <span style=\"font-weight: bold\">&lt;</span><span style=\"color: #0000ff; text-decoration-color: #0000ff; text-decoration: underline\">http://schema.org/width</span><span style=\"font-weight: bold\">&gt;</span> <span style=\"color: #008000; text-decoration-color: #008000\">\"2487px\"</span>\n",
       "</pre>\n"
      ],
      "text/plain": [
       "\u001b[1m<\u001b[0m\u001b[4;94mhttps:\u001b[0m\u001b[4;94m//corpusvitrearum.de/id/F3431\u001b[0m\u001b[1m>\u001b[0m \u001b[1m<\u001b[0m\u001b[4;94mhttp:\u001b[0m\u001b[4;94m//schema.org/width\u001b[0m\u001b[1m>\u001b[0m \u001b[32m\"2487px\"\u001b[0m\n"
      ]
     },
     "metadata": {},
     "output_type": "display_data"
    },
    {
     "data": {
      "text/html": [
       "<pre style=\"white-space:pre;overflow-x:auto;line-height:normal;font-family:Menlo,'DejaVu Sans Mono',consolas,'Courier New',monospace\"><span style=\"font-weight: bold\">&lt;</span><span style=\"color: #0000ff; text-decoration-color: #0000ff; text-decoration: underline\">https://corpusvitrearum.de/id/F3431</span><span style=\"font-weight: bold\">&gt;</span> <span style=\"font-weight: bold\">&lt;</span><span style=\"color: #0000ff; text-decoration-color: #0000ff; text-decoration: underline\">http://www.w3.org/1999/02/22-rdf-syntax-ns#type</span><span style=\"font-weight: bold\">&gt;</span> \n",
       "<span style=\"font-weight: bold\">&lt;</span><span style=\"color: #0000ff; text-decoration-color: #0000ff; text-decoration: underline\">http://schema.org/ImageObject</span><span style=\"font-weight: bold\">&gt;</span>\n",
       "</pre>\n"
      ],
      "text/plain": [
       "\u001b[1m<\u001b[0m\u001b[4;94mhttps:\u001b[0m\u001b[4;94m//corpusvitrearum.de/id/F3431\u001b[0m\u001b[1m>\u001b[0m \u001b[1m<\u001b[0m\u001b[4;94mhttp:\u001b[0m\u001b[4;94m//www.w3.org/1999/02/22-rdf-syntax-ns#type\u001b[0m\u001b[1m>\u001b[0m \n",
       "\u001b[1m<\u001b[0m\u001b[4;94mhttp:\u001b[0m\u001b[4;94m//schema.org/ImageObject\u001b[0m\u001b[1m>\u001b[0m\n"
      ]
     },
     "metadata": {},
     "output_type": "display_data"
    },
    {
     "data": {
      "text/html": [
       "<pre style=\"white-space:pre;overflow-x:auto;line-height:normal;font-family:Menlo,'DejaVu Sans Mono',consolas,'Courier New',monospace\"><span style=\"font-weight: bold\">&lt;</span><span style=\"color: #0000ff; text-decoration-color: #0000ff; text-decoration: underline\">https://corpusvitrearum.de/id/F3431</span><span style=\"font-weight: bold\">&gt;</span> <span style=\"font-weight: bold\">&lt;</span><span style=\"color: #0000ff; text-decoration-color: #0000ff; text-decoration: underline\">http://schema.org/dateModified</span><span style=\"font-weight: bold\">&gt;</span> <span style=\"color: #008000; text-decoration-color: #008000\">\"2009-12-30\"</span>\n",
       "</pre>\n"
      ],
      "text/plain": [
       "\u001b[1m<\u001b[0m\u001b[4;94mhttps:\u001b[0m\u001b[4;94m//corpusvitrearum.de/id/F3431\u001b[0m\u001b[1m>\u001b[0m \u001b[1m<\u001b[0m\u001b[4;94mhttp:\u001b[0m\u001b[4;94m//schema.org/dateModified\u001b[0m\u001b[1m>\u001b[0m \u001b[32m\"2009-12-30\"\u001b[0m\n"
      ]
     },
     "metadata": {},
     "output_type": "display_data"
    },
    {
     "data": {
      "text/html": [
       "<pre style=\"white-space:pre;overflow-x:auto;line-height:normal;font-family:Menlo,'DejaVu Sans Mono',consolas,'Courier New',monospace\"><span style=\"font-weight: bold\">&lt;</span><span style=\"color: #0000ff; text-decoration-color: #0000ff; text-decoration: underline\">https://corpusvitrearum.de/id/F3431</span><span style=\"font-weight: bold\">&gt;</span> <span style=\"font-weight: bold\">&lt;</span><span style=\"color: #0000ff; text-decoration-color: #0000ff; text-decoration: underline\">http://schema.org/creator</span><span style=\"font-weight: bold\">&gt;</span> <span style=\"font-weight: bold\">&lt;</span><span style=\"color: #0000ff; text-decoration-color: #0000ff; text-decoration: underline\">https://nfdi4culture.de/id/E1834</span><span style=\"font-weight: bold\">&gt;</span>\n",
       "</pre>\n"
      ],
      "text/plain": [
       "\u001b[1m<\u001b[0m\u001b[4;94mhttps:\u001b[0m\u001b[4;94m//corpusvitrearum.de/id/F3431\u001b[0m\u001b[1m>\u001b[0m \u001b[1m<\u001b[0m\u001b[4;94mhttp:\u001b[0m\u001b[4;94m//schema.org/creator\u001b[0m\u001b[1m>\u001b[0m \u001b[1m<\u001b[0m\u001b[4;94mhttps:\u001b[0m\u001b[4;94m//nfdi4culture.de/id/E1834\u001b[0m\u001b[1m>\u001b[0m\n"
      ]
     },
     "metadata": {},
     "output_type": "display_data"
    },
    {
     "data": {
      "text/html": [
       "<pre style=\"white-space:pre;overflow-x:auto;line-height:normal;font-family:Menlo,'DejaVu Sans Mono',consolas,'Courier New',monospace\"><span style=\"font-weight: bold\">&lt;</span><span style=\"color: #0000ff; text-decoration-color: #0000ff; text-decoration: underline\">https://corpusvitrearum.de/id/F3431</span><span style=\"font-weight: bold\">&gt;</span> <span style=\"font-weight: bold\">&lt;</span><span style=\"color: #0000ff; text-decoration-color: #0000ff; text-decoration: underline\">http://schema.org/license</span><span style=\"font-weight: bold\">&gt;</span> <span style=\"color: #008000; text-decoration-color: #008000\">\"https://creativecommons.org/licenses/by-nc/4.0/\"</span>\n",
       "</pre>\n"
      ],
      "text/plain": [
       "\u001b[1m<\u001b[0m\u001b[4;94mhttps:\u001b[0m\u001b[4;94m//corpusvitrearum.de/id/F3431\u001b[0m\u001b[1m>\u001b[0m \u001b[1m<\u001b[0m\u001b[4;94mhttp:\u001b[0m\u001b[4;94m//schema.org/license\u001b[0m\u001b[1m>\u001b[0m \u001b[32m\"https://creativecommons.org/licenses/by-nc/4.0/\"\u001b[0m\n"
      ]
     },
     "metadata": {},
     "output_type": "display_data"
    },
    {
     "data": {
      "text/html": [
       "<pre style=\"white-space:pre;overflow-x:auto;line-height:normal;font-family:Menlo,'DejaVu Sans Mono',consolas,'Courier New',monospace\"><span style=\"font-weight: bold\">&lt;</span><span style=\"color: #0000ff; text-decoration-color: #0000ff; text-decoration: underline\">https://corpusvitrearum.de/id/F3431</span><span style=\"font-weight: bold\">&gt;</span> <span style=\"font-weight: bold\">&lt;</span><span style=\"color: #0000ff; text-decoration-color: #0000ff; text-decoration: underline\">http://schema.org/license</span><span style=\"font-weight: bold\">&gt;</span> \n",
       "<span style=\"color: #008000; text-decoration-color: #008000\">\"https://creativecommons.org/publicdomain/zero/1.0/\"</span>\n",
       "</pre>\n"
      ],
      "text/plain": [
       "\u001b[1m<\u001b[0m\u001b[4;94mhttps:\u001b[0m\u001b[4;94m//corpusvitrearum.de/id/F3431\u001b[0m\u001b[1m>\u001b[0m \u001b[1m<\u001b[0m\u001b[4;94mhttp:\u001b[0m\u001b[4;94m//schema.org/license\u001b[0m\u001b[1m>\u001b[0m \n",
       "\u001b[32m\"https://creativecommons.org/publicdomain/zero/1.0/\"\u001b[0m\n"
      ]
     },
     "metadata": {},
     "output_type": "display_data"
    },
    {
     "data": {
      "text/html": [
       "<pre style=\"white-space:pre;overflow-x:auto;line-height:normal;font-family:Menlo,'DejaVu Sans Mono',consolas,'Courier New',monospace\"><span style=\"font-weight: bold\">&lt;</span><span style=\"color: #0000ff; text-decoration-color: #0000ff; text-decoration: underline\">https://corpusvitrearum.de/id/F3431</span><span style=\"font-weight: bold\">&gt;</span> <span style=\"font-weight: bold\">&lt;</span><span style=\"color: #0000ff; text-decoration-color: #0000ff; text-decoration: underline\">http://schema.org/contentLocation</span><span style=\"font-weight: bold\">&gt;</span> <span style=\"color: #008000; text-decoration-color: #008000\">\"Adolfseck, Deutschland\"</span>\n",
       "</pre>\n"
      ],
      "text/plain": [
       "\u001b[1m<\u001b[0m\u001b[4;94mhttps:\u001b[0m\u001b[4;94m//corpusvitrearum.de/id/F3431\u001b[0m\u001b[1m>\u001b[0m \u001b[1m<\u001b[0m\u001b[4;94mhttp:\u001b[0m\u001b[4;94m//schema.org/contentLocation\u001b[0m\u001b[1m>\u001b[0m \u001b[32m\"Adolfseck, Deutschland\"\u001b[0m\n"
      ]
     },
     "metadata": {},
     "output_type": "display_data"
    },
    {
     "data": {
      "text/html": [
       "<pre style=\"white-space:pre;overflow-x:auto;line-height:normal;font-family:Menlo,'DejaVu Sans Mono',consolas,'Courier New',monospace\"><span style=\"font-weight: bold\">&lt;</span><span style=\"color: #0000ff; text-decoration-color: #0000ff; text-decoration: underline\">https://corpusvitrearum.de/id/F3431</span><span style=\"font-weight: bold\">&gt;</span> <span style=\"font-weight: bold\">&lt;</span><span style=\"color: #0000ff; text-decoration-color: #0000ff; text-decoration: underline\">http://schema.org/name</span><span style=\"font-weight: bold\">&gt;</span> <span style=\"color: #008000; text-decoration-color: #008000\">\"Heilige Sippe\"</span>@de\n",
       "</pre>\n"
      ],
      "text/plain": [
       "\u001b[1m<\u001b[0m\u001b[4;94mhttps:\u001b[0m\u001b[4;94m//corpusvitrearum.de/id/F3431\u001b[0m\u001b[1m>\u001b[0m \u001b[1m<\u001b[0m\u001b[4;94mhttp:\u001b[0m\u001b[4;94m//schema.org/name\u001b[0m\u001b[1m>\u001b[0m \u001b[32m\"Heilige Sippe\"\u001b[0m@de\n"
      ]
     },
     "metadata": {},
     "output_type": "display_data"
    },
    {
     "data": {
      "text/html": [
       "<pre style=\"white-space:pre;overflow-x:auto;line-height:normal;font-family:Menlo,'DejaVu Sans Mono',consolas,'Courier New',monospace\"><span style=\"font-weight: bold\">&lt;</span><span style=\"color: #0000ff; text-decoration-color: #0000ff; text-decoration: underline\">https://corpusvitrearum.de/id/F3431</span><span style=\"font-weight: bold\">&gt;</span> <span style=\"font-weight: bold\">&lt;</span><span style=\"color: #0000ff; text-decoration-color: #0000ff; text-decoration: underline\">http://schema.org/temporalCoverage</span><span style=\"font-weight: bold\">&gt;</span> <span style=\"color: #008000; text-decoration-color: #008000\">\"1495-01-01/1504-12-31\"</span>\n",
       "</pre>\n"
      ],
      "text/plain": [
       "\u001b[1m<\u001b[0m\u001b[4;94mhttps:\u001b[0m\u001b[4;94m//corpusvitrearum.de/id/F3431\u001b[0m\u001b[1m>\u001b[0m \u001b[1m<\u001b[0m\u001b[4;94mhttp:\u001b[0m\u001b[4;94m//schema.org/temporalCoverage\u001b[0m\u001b[1m>\u001b[0m \u001b[32m\"1495-01-01/1504-12-31\"\u001b[0m\n"
      ]
     },
     "metadata": {},
     "output_type": "display_data"
    },
    {
     "data": {
      "text/html": [
       "<pre style=\"white-space:pre;overflow-x:auto;line-height:normal;font-family:Menlo,'DejaVu Sans Mono',consolas,'Courier New',monospace\"><span style=\"font-weight: bold\">&lt;</span><span style=\"color: #0000ff; text-decoration-color: #0000ff; text-decoration: underline\">https://corpusvitrearum.de/id/F3431</span><span style=\"font-weight: bold\">&gt;</span> <span style=\"font-weight: bold\">&lt;</span><span style=\"color: #0000ff; text-decoration-color: #0000ff; text-decoration: underline\">http://schema.org/height</span><span style=\"font-weight: bold\">&gt;</span> <span style=\"color: #008000; text-decoration-color: #008000\">\"3265px\"</span>\n",
       "</pre>\n"
      ],
      "text/plain": [
       "\u001b[1m<\u001b[0m\u001b[4;94mhttps:\u001b[0m\u001b[4;94m//corpusvitrearum.de/id/F3431\u001b[0m\u001b[1m>\u001b[0m \u001b[1m<\u001b[0m\u001b[4;94mhttp:\u001b[0m\u001b[4;94m//schema.org/height\u001b[0m\u001b[1m>\u001b[0m \u001b[32m\"3265px\"\u001b[0m\n"
      ]
     },
     "metadata": {},
     "output_type": "display_data"
    },
    {
     "data": {
      "text/html": [
       "<pre style=\"white-space:pre;overflow-x:auto;line-height:normal;font-family:Menlo,'DejaVu Sans Mono',consolas,'Courier New',monospace\"><span style=\"font-weight: bold\">&lt;</span><span style=\"color: #0000ff; text-decoration-color: #0000ff; text-decoration: underline\">https://corpusvitrearum.de/id/F3431</span><span style=\"font-weight: bold\">&gt;</span> <span style=\"font-weight: bold\">&lt;</span><span style=\"color: #0000ff; text-decoration-color: #0000ff; text-decoration: underline\">http://schema.org/creditText</span><span style=\"font-weight: bold\">&gt;</span> <span style=\"color: #008000; text-decoration-color: #008000\">\"Andrea Gössel, CVMA Freiburg, CC BY-NC 4.0\"</span>\n",
       "</pre>\n"
      ],
      "text/plain": [
       "\u001b[1m<\u001b[0m\u001b[4;94mhttps:\u001b[0m\u001b[4;94m//corpusvitrearum.de/id/F3431\u001b[0m\u001b[1m>\u001b[0m \u001b[1m<\u001b[0m\u001b[4;94mhttp:\u001b[0m\u001b[4;94m//schema.org/creditText\u001b[0m\u001b[1m>\u001b[0m \u001b[32m\"Andrea Gössel, CVMA Freiburg, CC BY-NC 4.0\"\u001b[0m\n"
      ]
     },
     "metadata": {},
     "output_type": "display_data"
    }
   ],
   "source": [
    "for s,p,o, _ in store.quads_for_pattern(px.NamedNode(\"https://corpusvitrearum.de/id/F3431\"), None, None):\n",
    "    print(s,p,o)\n"
   ]
  }
 ],
 "metadata": {
  "kernelspec": {
   "display_name": "p39",
   "language": "python",
   "name": "python3"
  },
  "language_info": {
   "codemirror_mode": {
    "name": "ipython",
    "version": 3
   },
   "file_extension": ".py",
   "mimetype": "text/x-python",
   "name": "python",
   "nbconvert_exporter": "python",
   "pygments_lexer": "ipython3",
   "version": "3.9.15"
  },
  "orig_nbformat": 4
 },
 "nbformat": 4,
 "nbformat_minor": 2
}
