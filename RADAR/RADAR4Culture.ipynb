{
 "cells": [
  {
   "cell_type": "code",
   "execution_count": 6,
   "id": "7ee99f19",
   "metadata": {},
   "outputs": [
    {
     "data": {
      "text/html": [
       "<pre style=\"white-space:pre;overflow-x:auto;line-height:normal;font-family:Menlo,'DejaVu Sans Mono',consolas,'Courier New',monospace\"><span style=\"color: #008080; text-decoration-color: #008080; font-weight: bold\">41034</span>\n",
       "</pre>\n"
      ],
      "text/plain": [
       "\u001b[1;36m41034\u001b[0m\n"
      ]
     },
     "metadata": {},
     "output_type": "display_data"
    },
    {
     "data": {
      "text/html": [
       "<pre style=\"white-space:pre;overflow-x:auto;line-height:normal;font-family:Menlo,'DejaVu Sans Mono',consolas,'Courier New',monospace\"><span style=\"font-weight: bold\">&lt;</span><span style=\"color: #000000; text-decoration-color: #000000\">?xml </span><span style=\"color: #808000; text-decoration-color: #808000\">version</span><span style=\"color: #000000; text-decoration-color: #000000\">=</span><span style=\"color: #008000; text-decoration-color: #008000\">\"1.0\"</span><span style=\"color: #000000; text-decoration-color: #000000\"> </span><span style=\"color: #808000; text-decoration-color: #808000\">encoding</span><span style=\"color: #000000; text-decoration-color: #000000\">=</span><span style=\"color: #008000; text-decoration-color: #008000\">\"UTF-8\"</span><span style=\"color: #000000; text-decoration-color: #000000\"> ?</span><span style=\"font-weight: bold\">&gt;&lt;</span><span style=\"color: #000000; text-decoration-color: #000000\">?xml-stylesheet </span><span style=\"color: #808000; text-decoration-color: #808000\">type</span><span style=\"color: #000000; text-decoration-color: #000000\">=</span><span style=\"color: #008000; text-decoration-color: #008000\">\"text/xsl\"</span><span style=\"color: #000000; text-decoration-color: #000000\"> </span><span style=\"color: #808000; text-decoration-color: #808000\">href</span><span style=\"color: #000000; text-decoration-color: #000000\">=</span><span style=\"color: #008000; text-decoration-color: #008000\">\"/oai/stylesheet\"</span><span style=\"color: #000000; text-decoration-color: #000000\">?</span><span style=\"font-weight: bold\">&gt;&lt;</span><span style=\"color: #ff00ff; text-decoration-color: #ff00ff; font-weight: bold\">OAI-PMH</span><span style=\"color: #000000; text-decoration-color: #000000\"> </span>\n",
       "<span style=\"color: #808000; text-decoration-color: #808000\">xmlns</span><span style=\"color: #000000; text-decoration-color: #000000\">=</span><span style=\"color: #008000; text-decoration-color: #008000\">\"http://www.openarchives.org/OAI/2.0/\"</span><span style=\"color: #000000; text-decoration-color: #000000\"> xmlns:</span><span style=\"color: #808000; text-decoration-color: #808000\">xsi</span><span style=\"color: #000000; text-decoration-color: #000000\">=</span><span style=\"color: #008000; text-decoration-color: #008000\">\"http://www.w3.org/2001/XMLSchema-instance\"</span><span style=\"color: #000000; text-decoration-color: #000000\"> </span>\n",
       "<span style=\"color: #000000; text-decoration-color: #000000\">xsi:</span><span style=\"color: #808000; text-decoration-color: #808000\">schemaLocation</span><span style=\"color: #000000; text-decoration-color: #000000\">=</span><span style=\"color: #008000; text-decoration-color: #008000\">\"http://www.openarchives.org/OAI/2.0/ </span>\n",
       "<span style=\"color: #008000; text-decoration-color: #008000\">http://www.openarchives.org/OAI/2.0/OAI-PMH.xsd\"</span><span style=\"font-weight: bold\">&gt;&lt;</span><span style=\"color: #ff00ff; text-decoration-color: #ff00ff; font-weight: bold\">responseDate</span><span style=\"font-weight: bold\">&gt;</span><span style=\"color: #008080; text-decoration-color: #008080; font-weight: bold\">2023</span>-<span style=\"color: #008080; text-decoration-color: #008080; font-weight: bold\">04</span>-21T<span style=\"color: #00ff00; text-decoration-color: #00ff00; font-weight: bold\">14:40:12</span>Z<span style=\"font-weight: bold\">&lt;</span><span style=\"color: #800080; text-decoration-color: #800080\">/</span><span style=\"color: #ff00ff; text-decoration-color: #ff00ff\">responseDate</span><span style=\"font-weight: bold\">&gt;&lt;</span><span style=\"color: #ff00ff; text-decoration-color: #ff00ff; font-weight: bold\">request</span><span style=\"color: #000000; text-decoration-color: #000000\"> </span>\n",
       "<span style=\"color: #808000; text-decoration-color: #808000\">verb</span><span style=\"color: #000000; text-decoration-color: #000000\">=</span><span style=\"color: #008000; text-decoration-color: #008000\">\"ListRecords\"</span><span style=\"color: #000000; text-decoration-color: #000000\"> </span><span style=\"color: #808000; text-decoration-color: #808000\">metadataPrefix</span><span style=\"color: #000000; text-decoration-color: #000000\">=</span><span style=\"color: #008000; text-decoration-color: #008000\">\"oai_dc\"</span><span style=\"color: #000000; text-decoration-color: #000000\"> </span>\n",
       "<span style=\"color: #808000; text-decoration-color: #808000\">set</span><span style=\"color: #000000; text-decoration-color: #000000\">=</span><span style=\"color: #008000; text-decoration-color: #008000\">\"radar4culture\"</span><span style=\"font-weight: bold\">&gt;</span><span style=\"color: #0000ff; text-decoration-color: #0000ff; text-decoration: underline\">https://www.radar-service.eu/oai/OAIHandler</span><span style=\"font-weight: bold\">&lt;</span><span style=\"color: #800080; text-decoration-color: #800080\">/</span><span style=\"color: #ff00ff; text-decoration-color: #ff00ff\">request</span><span style=\"font-weight: bold\">&gt;&lt;</span><span style=\"color: #ff00ff; text-decoration-color: #ff00ff; font-weight: bold\">ListRecords</span><span style=\"font-weight: bold\">&gt;</span>\n",
       "<span style=\"font-weight: bold\">&lt;</span><span style=\"color: #ff00ff; text-decoration-color: #ff00ff; font-weight: bold\">record</span><span style=\"font-weight: bold\">&gt;&lt;</span><span style=\"color: #ff00ff; text-decoration-color: #ff00ff; font-weight: bold\">header</span><span style=\"font-weight: bold\">&gt;&lt;</span><span style=\"color: #ff00ff; text-decoration-color: #ff00ff; font-weight: bold\">identifier</span><span style=\"font-weight: bold\">&gt;</span><span style=\"color: #008080; text-decoration-color: #008080; font-weight: bold\">10.22000</span>/<span style=\"color: #008080; text-decoration-color: #008080; font-weight: bold\">708</span><span style=\"font-weight: bold\">&lt;</span><span style=\"color: #800080; text-decoration-color: #800080\">/</span><span style=\"color: #ff00ff; text-decoration-color: #ff00ff\">identifier</span><span style=\"font-weight: bold\">&gt;&lt;</span><span style=\"color: #ff00ff; text-decoration-color: #ff00ff; font-weight: bold\">datestamp</span><span style=\"font-weight: bold\">&gt;</span><span style=\"color: #008080; text-decoration-color: #008080; font-weight: bold\">2022</span>-<span style=\"color: #008080; text-decoration-color: #008080; font-weight: bold\">08</span>-25T<span style=\"color: #00ff00; text-decoration-color: #00ff00; font-weight: bold\">10:46:33</span>Z<span style=\"font-weight: bold\">&lt;</span><span style=\"color: #800080; text-decoration-color: #800080\">/</span><span style=\"color: #ff00ff; text-decoration-color: #ff00ff\">datestamp</span><span style=\"font-weight: bold\">&gt;&lt;</span><span style=\"color: #ff00ff; text-decoration-color: #ff00ff; font-weight: bold\">setSpec</span><span style=\"font-weight: bold\">&gt;</span>radar4cult\n",
       "ure<span style=\"font-weight: bold\">&lt;</span><span style=\"color: #800080; text-decoration-color: #800080\">/</span><span style=\"color: #ff00ff; text-decoration-color: #ff00ff\">setSpec</span><span style=\"font-weight: bold\">&gt;&lt;</span><span style=\"color: #800080; text-decoration-color: #800080\">/</span><span style=\"color: #ff00ff; text-decoration-color: #ff00ff\">header</span><span style=\"font-weight: bold\">&gt;&lt;</span><span style=\"color: #ff00ff; text-decoration-color: #ff00ff; font-weight: bold\">metadata</span><span style=\"font-weight: bold\">&gt;&lt;</span><span style=\"color: #ff00ff; text-decoration-color: #ff00ff; font-weight: bold\">oai_</span><span style=\"color: #00ff00; text-decoration-color: #00ff00; font-weight: bold\">dc:dc</span><span style=\"color: #000000; text-decoration-color: #000000\"> xmlns:</span><span style=\"color: #808000; text-decoration-color: #808000\">dc</span><span style=\"color: #000000; text-decoration-color: #000000\">=</span><span style=\"color: #008000; text-decoration-color: #008000\">\"http://purl.org/dc/elements/1.1/\"</span>\n",
       "<span style=\"color: #000000; text-decoration-color: #000000\">           xmlns:</span><span style=\"color: #808000; text-decoration-color: #808000\">oai_dc</span><span style=\"color: #000000; text-decoration-color: #000000\">=</span><span style=\"color: #008000; text-decoration-color: #008000\">\"http://www.openarchives.org/OAI/2.0/oai_dc/\"</span>\n",
       "<span style=\"color: #000000; text-decoration-color: #000000\">           xmlns:</span><span style=\"color: #808000; text-decoration-color: #808000\">xsi</span><span style=\"color: #000000; text-decoration-color: #000000\">=</span><span style=\"color: #008000; text-decoration-color: #008000\">\"http://www.w3.org/2001/XMLSchema-instance\"</span>\n",
       "<span style=\"color: #000000; text-decoration-color: #000000\">           xsi:</span><span style=\"color: #808000; text-decoration-color: #808000\">schemaLocation</span><span style=\"color: #000000; text-decoration-color: #000000\">=</span><span style=\"color: #008000; text-decoration-color: #008000\">\"http://www.openarchives.org/OAI/2.0/oai_dc/ </span>\n",
       "<span style=\"color: #008000; text-decoration-color: #008000\">https://www.openarchives.org/OAI/2.0/oai_dc.xsd http://purl.org/dc/elements/1.1/ </span>\n",
       "<span style=\"color: #008000; text-decoration-color: #008000\">https://www.radar-service.eu/schemas/dc.xsd\"</span><span style=\"font-weight: bold\">&gt;</span>\n",
       "   <span style=\"font-weight: bold\">&lt;</span><span style=\"color: #ff00ff; text-decoration-color: #ff00ff; font-weight: bold\">dc:identifier</span><span style=\"font-weight: bold\">&gt;</span><span style=\"color: #008080; text-decoration-color: #008080; font-weight: bold\">10.22000</span>/<span style=\"color: #008080; text-decoration-color: #008080; font-weight: bold\">708</span><span style=\"font-weight: bold\">&lt;</span><span style=\"color: #800080; text-decoration-color: #800080\">/</span><span style=\"color: #ff00ff; text-decoration-color: #ff00ff\">dc</span><span style=\"color: #000000; text-decoration-color: #000000\">:identifier</span><span style=\"font-weight: bold\">&gt;</span>\n",
       "   <span style=\"font-weight: bold\">&lt;</span><span style=\"color: #ff00ff; text-decoration-color: #ff00ff; font-weight: bold\">dc:identifier</span><span style=\"font-weight: bold\">&gt;</span>DOI<span style=\"font-weight: bold\">&lt;</span><span style=\"color: #800080; text-decoration-color: #800080\">/</span><span style=\"color: #ff00ff; text-decoration-color: #ff00ff\">dc</span><span style=\"color: #000000; text-decoration-color: #000000\">:identifier</span><span style=\"font-weight: bold\">&gt;</span>\n",
       "   <span style=\"font-weight: bold\">&lt;</span><span style=\"color: #00ff00; text-decoration-color: #00ff00; font-weight: bold\">dc:c</span><span style=\"color: #ff00ff; text-decoration-color: #ff00ff; font-weight: bold\">reator</span><span style=\"font-weight: bold\">&gt;</span>Zentrum für Geschichte der Psychologie der Universität Würzburg<span style=\"font-weight: bold\">&lt;</span><span style=\"color: #800080; text-decoration-color: #800080\">/</span><span style=\"color: #ff00ff; text-decoration-color: #ff00ff\">dc</span><span style=\"color: #000000; text-decoration-color: #000000\">:creator</span><span style=\"font-weight: bold\">&gt;</span>\n",
       "   <span style=\"font-weight: bold\">&lt;</span><span style=\"color: #ff00ff; text-decoration-color: #ff00ff; font-weight: bold\">dc:title</span><span style=\"font-weight: bold\">&gt;</span>Stereoskop hemisphärisch<span style=\"font-weight: bold\">&lt;</span><span style=\"color: #800080; text-decoration-color: #800080\">/</span><span style=\"color: #ff00ff; text-decoration-color: #ff00ff\">dc</span><span style=\"color: #000000; text-decoration-color: #000000\">:title</span><span style=\"font-weight: bold\">&gt;</span>\n",
       "   <span style=\"font-weight: bold\">&lt;</span><span style=\"color: #ff00ff; text-decoration-color: #ff00ff; font-weight: bold\">dc:publisher</span><span style=\"font-weight: bold\">&gt;</span>Zentrum für Geschichte der Psychologie<span style=\"font-weight: bold\">&lt;</span><span style=\"color: #800080; text-decoration-color: #800080\">/</span><span style=\"color: #ff00ff; text-decoration-color: #ff00ff\">dc</span><span style=\"color: #000000; text-decoration-color: #000000\">:publisher</span><span style=\"font-weight: bold\">&gt;</span>\n",
       "   <span style=\"font-weight: bold\">&lt;</span><span style=\"color: #00ff00; text-decoration-color: #00ff00; font-weight: bold\">dc:da</span><span style=\"color: #ff00ff; text-decoration-color: #ff00ff; font-weight: bold\">te</span><span style=\"font-weight: bold\">&gt;</span><span style=\"color: #008080; text-decoration-color: #008080; font-weight: bold\">2022</span><span style=\"font-weight: bold\">&lt;</span><span style=\"color: #800080; text-decoration-color: #800080\">/</span><span style=\"color: #ff00ff; text-decoration-color: #ff00ff\">dc</span><span style=\"color: #000000; text-decoration-color: #000000\">:date</span><span style=\"font-weight: bold\">&gt;</span>\n",
       "   <span style=\"font-weight: bold\">&lt;</span><span style=\"color: #ff00ff; text-decoration-color: #ff00ff; font-weight: bold\">dc:subject</span><span style=\"font-weight: bold\">&gt;</span>Psychology<span style=\"font-weight: bold\">&lt;</span><span style=\"color: #800080; text-decoration-color: #800080\">/</span><span style=\"color: #ff00ff; text-decoration-color: #ff00ff\">dc</span><span style=\"color: #000000; text-decoration-color: #000000\">:subject</span><span style=\"font-weight: bold\">&gt;</span>\n",
       "   <span style=\"font-weight: bold\">&lt;</span><span style=\"color: #ff00ff; text-decoration-color: #ff00ff; font-weight: bold\">dc:type</span><span style=\"color: #000000; text-decoration-color: #000000\">/</span><span style=\"font-weight: bold\">&gt;</span>\n",
       "   <span style=\"font-weight: bold\">&lt;</span><span style=\"color: #ff00ff; text-decoration-color: #ff00ff; font-weight: bold\">dc:type</span><span style=\"font-weight: bold\">&gt;</span>Image<span style=\"font-weight: bold\">&lt;</span><span style=\"color: #800080; text-decoration-color: #800080\">/</span><span style=\"color: #ff00ff; text-decoration-color: #ff00ff\">dc</span><span style=\"color: #000000; text-decoration-color: #000000\">:type</span><span style=\"font-weight: bold\">&gt;</span>\n",
       "   <span style=\"font-weight: bold\">&lt;</span><span style=\"color: #ff00ff; text-decoration-color: #ff00ff; font-weight: bold\">dc:rights</span><span style=\"font-weight: bold\">&gt;</span>CC BY-SA <span style=\"color: #008080; text-decoration-color: #008080; font-weight: bold\">4.0</span> Attribution-ShareAlike<span style=\"font-weight: bold\">&lt;</span><span style=\"color: #800080; text-decoration-color: #800080\">/</span><span style=\"color: #ff00ff; text-decoration-color: #ff00ff\">dc</span><span style=\"color: #000000; text-decoration-color: #000000\">:rights</span><span style=\"font-weight: bold\">&gt;</span>\n",
       "   <span style=\"font-weight: bold\">&lt;</span><span style=\"color: #ff00ff; text-decoration-color: #ff00ff; font-weight: bold\">dc:rights</span><span style=\"font-weight: bold\">&gt;</span>Zentrum für Geschichte der Psychologie der Universität Würzburg<span style=\"font-weight: bold\">&lt;</span><span style=\"color: #800080; text-decoration-color: #800080\">/</span><span style=\"color: #ff00ff; text-decoration-color: #ff00ff\">dc</span><span style=\"color: #000000; text-decoration-color: #000000\">:rights</span><span style=\"font-weight: bold\">&gt;</span>\n",
       "   <span style=\"font-weight: bold\">&lt;</span><span style=\"color: #00ff00; text-decoration-color: #00ff00; font-weight: bold\">dc:de</span><span style=\"color: #ff00ff; text-decoration-color: #ff00ff; font-weight: bold\">scription</span><span style=\"font-weight: bold\">&gt;</span>Hersteller Underwood &amp;amp; Underwood, USA<span style=\"font-weight: bold\">&lt;</span><span style=\"color: #800080; text-decoration-color: #800080\">/</span><span style=\"color: #ff00ff; text-decoration-color: #ff00ff\">dc</span><span style=\"color: #000000; text-decoration-color: #000000\">:description</span><span style=\"font-weight: bold\">&gt;</span>\n",
       "   <span style=\"font-weight: bold\">&lt;</span><span style=\"color: #ff00ff; text-decoration-color: #ff00ff; font-weight: bold\">dc:language</span><span style=\"color: #000000; text-decoration-color: #000000\">/</span><span style=\"font-weight: bold\">&gt;</span>\n",
       "   <span style=\"font-weight: bold\">&lt;</span><span style=\"color: #00ff00; text-decoration-color: #00ff00; font-weight: bold\">dc:f</span><span style=\"color: #ff00ff; text-decoration-color: #ff00ff; font-weight: bold\">ormat</span><span style=\"font-weight: bold\">&gt;</span>application/zip<span style=\"font-weight: bold\">&lt;</span><span style=\"color: #800080; text-decoration-color: #800080\">/</span><span style=\"color: #ff00ff; text-decoration-color: #ff00ff\">dc</span><span style=\"color: #000000; text-decoration-color: #000000\">:format</span><span style=\"font-weight: bold\">&gt;</span>\n",
       "<span style=\"font-weight: bold\">&lt;</span><span style=\"color: #800080; text-decoration-color: #800080\">/</span><span style=\"color: #ff00ff; text-decoration-color: #ff00ff\">oai_dc</span><span style=\"color: #000000; text-decoration-color: #000000\">:dc</span><span style=\"font-weight: bold\">&gt;&lt;</span><span style=\"color: #800080; text-decoration-color: #800080\">/</span><span style=\"color: #ff00ff; text-decoration-color: #ff00ff\">metadata</span><span style=\"font-weight: bold\">&gt;&lt;</span><span style=\"color: #800080; text-decoration-color: #800080\">/</span><span style=\"color: #ff00ff; text-decoration-color: #ff00ff\">record</span><span style=\"font-weight: bold\">&gt;</span>\n",
       "<span style=\"font-weight: bold\">&lt;</span><span style=\"color: #ff00ff; text-decoration-color: #ff00ff; font-weight: bold\">record</span><span style=\"font-weight: bold\">&gt;&lt;</span><span style=\"color: #ff00ff; text-decoration-color: #ff00ff; font-weight: bold\">header</span><span style=\"font-weight: bold\">&gt;&lt;</span><span style=\"color: #ff00ff; text-decoration-color: #ff00ff; font-weight: bold\">identifier</span><span style=\"font-weight: bold\">&gt;</span><span style=\"color: #008080; text-decoration-color: #008080; font-weight: bold\">10.22000</span>/<span style=\"color: #008080; text-decoration-color: #008080; font-weight: bold\">714</span><span style=\"font-weight: bold\">&lt;</span><span style=\"color: #800080; text-decoration-color: #800080\">/</span><span style=\"color: #ff00ff; text-decoration-color: #ff00ff\">identifier</span><span style=\"font-weight: bold\">&gt;&lt;</span><span style=\"color: #ff00ff; text-decoration-color: #ff00ff; font-weight: bold\">datestamp</span><span style=\"font-weight: bold\">&gt;</span><span style=\"color: #008080; text-decoration-color: #008080; font-weight: bold\">2022</span>-<span style=\"color: #008080; text-decoration-color: #008080; font-weight: bold\">08</span>-25T<span style=\"color: #00ff00; text-decoration-color: #00ff00; font-weight: bold\">10:46:38</span>Z<span style=\"font-weight: bold\">&lt;</span><span style=\"color: #800080; text-decoration-color: #800080\">/</span><span style=\"color: #ff00ff; text-decoration-color: #ff00ff\">datestamp</span><span style=\"font-weight: bold\">&gt;&lt;</span><span style=\"color: #ff00ff; text-decoration-color: #ff00ff; font-weight: bold\">setSpec</span><span style=\"font-weight: bold\">&gt;</span>radar4cult\n",
       "ure<span style=\"font-weight: bold\">&lt;</span><span style=\"color: #800080; text-decoration-color: #800080\">/</span><span style=\"color: #ff00ff; text-decoration-color: #ff00ff\">setSpec</span><span style=\"font-weight: bold\">&gt;&lt;</span><span style=\"color: #800080; text-decoration-color: #800080\">/</span><span style=\"color: #ff00ff; text-decoration-color: #ff00ff\">header</span><span style=\"font-weight: bold\">&gt;&lt;</span><span style=\"color: #ff00ff; text-decoration-color: #ff00ff; font-weight: bold\">metadata</span><span style=\"font-weight: bold\">&gt;</span>&lt;oai_<span style=\"color: #00ff00; text-decoration-color: #00ff00; font-weight: bold\">dc:dc</span> xmlns:<span style=\"color: #808000; text-decoration-color: #808000\">dc</span>=<span style=\"color: #008000; text-decoration-color: #008000\">\"http://purl.org/dc/elements/1.1/\"</span>\n",
       "           xmlns:<span style=\"color: #808000; text-decoration-color: #808000\">oai_dc</span>=<span style=\"color: #800080; text-decoration-color: #800080\">\"</span><span style=\"color: #0000ff; text-decoration-color: #0000ff; text-decoration: underline\">http://w</span>\n",
       "</pre>\n"
      ],
      "text/plain": [
       "\u001b[1m<\u001b[0m\u001b[39m?xml \u001b[0m\u001b[33mversion\u001b[0m\u001b[39m=\u001b[0m\u001b[32m\"1\u001b[0m\u001b[32m.0\"\u001b[0m\u001b[39m \u001b[0m\u001b[33mencoding\u001b[0m\u001b[39m=\u001b[0m\u001b[32m\"UTF\u001b[0m\u001b[32m-8\"\u001b[0m\u001b[39m ?\u001b[0m\u001b[1m>\u001b[0m\u001b[1m<\u001b[0m\u001b[39m?xml-stylesheet \u001b[0m\u001b[33mtype\u001b[0m\u001b[39m=\u001b[0m\u001b[32m\"text\u001b[0m\u001b[32m/xsl\"\u001b[0m\u001b[39m \u001b[0m\u001b[33mhref\u001b[0m\u001b[39m=\u001b[0m\u001b[32m\"/oai/stylesheet\"\u001b[0m\u001b[39m?\u001b[0m\u001b[1m>\u001b[0m\u001b[1m<\u001b[0m\u001b[1;95mOAI-PMH\u001b[0m\u001b[39m \u001b[0m\n",
       "\u001b[33mxmlns\u001b[0m\u001b[39m=\u001b[0m\u001b[32m\"http\u001b[0m\u001b[32m://www.openarchives.org/OAI/2.0/\"\u001b[0m\u001b[39m xmlns:\u001b[0m\u001b[33mxsi\u001b[0m\u001b[39m=\u001b[0m\u001b[32m\"http\u001b[0m\u001b[32m://www.w3.org/2001/XMLSchema-instance\"\u001b[0m\u001b[39m \u001b[0m\n",
       "\u001b[39mxsi:\u001b[0m\u001b[33mschemaLocation\u001b[0m\u001b[39m=\u001b[0m\u001b[32m\"http\u001b[0m\u001b[32m://www.openarchives.org/OAI/2.0/ \u001b[0m\n",
       "\u001b[32mhttp://www.openarchives.org/OAI/2.0/OAI-PMH.xsd\"\u001b[0m\u001b[1m>\u001b[0m\u001b[1m<\u001b[0m\u001b[1;95mresponseDate\u001b[0m\u001b[1m>\u001b[0m\u001b[1;36m2023\u001b[0m-\u001b[1;36m04\u001b[0m-21T\u001b[1;92m14:40:12\u001b[0mZ\u001b[1m<\u001b[0m\u001b[35m/\u001b[0m\u001b[95mresponseDate\u001b[0m\u001b[1m>\u001b[0m\u001b[1m<\u001b[0m\u001b[1;95mrequest\u001b[0m\u001b[39m \u001b[0m\n",
       "\u001b[33mverb\u001b[0m\u001b[39m=\u001b[0m\u001b[32m\"ListRecords\"\u001b[0m\u001b[39m \u001b[0m\u001b[33mmetadataPrefix\u001b[0m\u001b[39m=\u001b[0m\u001b[32m\"oai_dc\"\u001b[0m\u001b[39m \u001b[0m\n",
       "\u001b[33mset\u001b[0m\u001b[39m=\u001b[0m\u001b[32m\"radar4culture\"\u001b[0m\u001b[1m>\u001b[0m\u001b[4;94mhttps://www.radar-service.eu/oai/OAIHandler\u001b[0m\u001b[1m<\u001b[0m\u001b[35m/\u001b[0m\u001b[95mrequest\u001b[0m\u001b[1m>\u001b[0m\u001b[1m<\u001b[0m\u001b[1;95mListRecords\u001b[0m\u001b[1m>\u001b[0m\n",
       "\u001b[1m<\u001b[0m\u001b[1;95mrecord\u001b[0m\u001b[1m>\u001b[0m\u001b[1m<\u001b[0m\u001b[1;95mheader\u001b[0m\u001b[1m>\u001b[0m\u001b[1m<\u001b[0m\u001b[1;95midentifier\u001b[0m\u001b[1m>\u001b[0m\u001b[1;36m10.22000\u001b[0m/\u001b[1;36m708\u001b[0m\u001b[1m<\u001b[0m\u001b[35m/\u001b[0m\u001b[95midentifier\u001b[0m\u001b[1m>\u001b[0m\u001b[1m<\u001b[0m\u001b[1;95mdatestamp\u001b[0m\u001b[1m>\u001b[0m\u001b[1;36m2022\u001b[0m-\u001b[1;36m08\u001b[0m-25T\u001b[1;92m10:46:33\u001b[0mZ\u001b[1m<\u001b[0m\u001b[35m/\u001b[0m\u001b[95mdatestamp\u001b[0m\u001b[1m>\u001b[0m\u001b[1m<\u001b[0m\u001b[1;95msetSpec\u001b[0m\u001b[1m>\u001b[0mradar4cult\n",
       "ure\u001b[1m<\u001b[0m\u001b[35m/\u001b[0m\u001b[95msetSpec\u001b[0m\u001b[1m>\u001b[0m\u001b[1m<\u001b[0m\u001b[35m/\u001b[0m\u001b[95mheader\u001b[0m\u001b[1m>\u001b[0m\u001b[1m<\u001b[0m\u001b[1;95mmetadata\u001b[0m\u001b[1m>\u001b[0m\u001b[1m<\u001b[0m\u001b[1;95moai_\u001b[0m\u001b[1;92mdc:dc\u001b[0m\u001b[39m xmlns:\u001b[0m\u001b[33mdc\u001b[0m\u001b[39m=\u001b[0m\u001b[32m\"http\u001b[0m\u001b[32m://purl.org/dc/elements/1.1/\"\u001b[0m\n",
       "\u001b[39m           xmlns:\u001b[0m\u001b[33moai_dc\u001b[0m\u001b[39m=\u001b[0m\u001b[32m\"http\u001b[0m\u001b[32m://www.openarchives.org/OAI/2.0/oai_dc/\"\u001b[0m\n",
       "\u001b[39m           xmlns:\u001b[0m\u001b[33mxsi\u001b[0m\u001b[39m=\u001b[0m\u001b[32m\"http\u001b[0m\u001b[32m://www.w3.org/2001/XMLSchema-instance\"\u001b[0m\n",
       "\u001b[39m           xsi:\u001b[0m\u001b[33mschemaLocation\u001b[0m\u001b[39m=\u001b[0m\u001b[32m\"http\u001b[0m\u001b[32m://www.openarchives.org/OAI/2.0/oai_dc/ \u001b[0m\n",
       "\u001b[32mhttps://www.openarchives.org/OAI/2.0/oai_dc.xsd http://purl.org/dc/elements/1.1/ \u001b[0m\n",
       "\u001b[32mhttps://www.radar-service.eu/schemas/dc.xsd\"\u001b[0m\u001b[1m>\u001b[0m\n",
       "   \u001b[1m<\u001b[0m\u001b[1;95mdc:identifier\u001b[0m\u001b[1m>\u001b[0m\u001b[1;36m10.22000\u001b[0m/\u001b[1;36m708\u001b[0m\u001b[1m<\u001b[0m\u001b[35m/\u001b[0m\u001b[95mdc\u001b[0m\u001b[39m:identifier\u001b[0m\u001b[1m>\u001b[0m\n",
       "   \u001b[1m<\u001b[0m\u001b[1;95mdc:identifier\u001b[0m\u001b[1m>\u001b[0mDOI\u001b[1m<\u001b[0m\u001b[35m/\u001b[0m\u001b[95mdc\u001b[0m\u001b[39m:identifier\u001b[0m\u001b[1m>\u001b[0m\n",
       "   \u001b[1m<\u001b[0m\u001b[1;92mdc:c\u001b[0m\u001b[1;95mreator\u001b[0m\u001b[1m>\u001b[0mZentrum für Geschichte der Psychologie der Universität Würzburg\u001b[1m<\u001b[0m\u001b[35m/\u001b[0m\u001b[95mdc\u001b[0m\u001b[39m:creator\u001b[0m\u001b[1m>\u001b[0m\n",
       "   \u001b[1m<\u001b[0m\u001b[1;95mdc:title\u001b[0m\u001b[1m>\u001b[0mStereoskop hemisphärisch\u001b[1m<\u001b[0m\u001b[35m/\u001b[0m\u001b[95mdc\u001b[0m\u001b[39m:title\u001b[0m\u001b[1m>\u001b[0m\n",
       "   \u001b[1m<\u001b[0m\u001b[1;95mdc:publisher\u001b[0m\u001b[1m>\u001b[0mZentrum für Geschichte der Psychologie\u001b[1m<\u001b[0m\u001b[35m/\u001b[0m\u001b[95mdc\u001b[0m\u001b[39m:publisher\u001b[0m\u001b[1m>\u001b[0m\n",
       "   \u001b[1m<\u001b[0m\u001b[1;92mdc:da\u001b[0m\u001b[1;95mte\u001b[0m\u001b[1m>\u001b[0m\u001b[1;36m2022\u001b[0m\u001b[1m<\u001b[0m\u001b[35m/\u001b[0m\u001b[95mdc\u001b[0m\u001b[39m:date\u001b[0m\u001b[1m>\u001b[0m\n",
       "   \u001b[1m<\u001b[0m\u001b[1;95mdc:subject\u001b[0m\u001b[1m>\u001b[0mPsychology\u001b[1m<\u001b[0m\u001b[35m/\u001b[0m\u001b[95mdc\u001b[0m\u001b[39m:subject\u001b[0m\u001b[1m>\u001b[0m\n",
       "   \u001b[1m<\u001b[0m\u001b[1;95mdc:type\u001b[0m\u001b[39m/\u001b[0m\u001b[1m>\u001b[0m\n",
       "   \u001b[1m<\u001b[0m\u001b[1;95mdc:type\u001b[0m\u001b[1m>\u001b[0mImage\u001b[1m<\u001b[0m\u001b[35m/\u001b[0m\u001b[95mdc\u001b[0m\u001b[39m:type\u001b[0m\u001b[1m>\u001b[0m\n",
       "   \u001b[1m<\u001b[0m\u001b[1;95mdc:rights\u001b[0m\u001b[1m>\u001b[0mCC BY-SA \u001b[1;36m4.0\u001b[0m Attribution-ShareAlike\u001b[1m<\u001b[0m\u001b[35m/\u001b[0m\u001b[95mdc\u001b[0m\u001b[39m:rights\u001b[0m\u001b[1m>\u001b[0m\n",
       "   \u001b[1m<\u001b[0m\u001b[1;95mdc:rights\u001b[0m\u001b[1m>\u001b[0mZentrum für Geschichte der Psychologie der Universität Würzburg\u001b[1m<\u001b[0m\u001b[35m/\u001b[0m\u001b[95mdc\u001b[0m\u001b[39m:rights\u001b[0m\u001b[1m>\u001b[0m\n",
       "   \u001b[1m<\u001b[0m\u001b[1;92mdc:de\u001b[0m\u001b[1;95mscription\u001b[0m\u001b[1m>\u001b[0mHersteller Underwood &amp; Underwood, USA\u001b[1m<\u001b[0m\u001b[35m/\u001b[0m\u001b[95mdc\u001b[0m\u001b[39m:description\u001b[0m\u001b[1m>\u001b[0m\n",
       "   \u001b[1m<\u001b[0m\u001b[1;95mdc:language\u001b[0m\u001b[39m/\u001b[0m\u001b[1m>\u001b[0m\n",
       "   \u001b[1m<\u001b[0m\u001b[1;92mdc:f\u001b[0m\u001b[1;95mormat\u001b[0m\u001b[1m>\u001b[0mapplication/zip\u001b[1m<\u001b[0m\u001b[35m/\u001b[0m\u001b[95mdc\u001b[0m\u001b[39m:format\u001b[0m\u001b[1m>\u001b[0m\n",
       "\u001b[1m<\u001b[0m\u001b[35m/\u001b[0m\u001b[95moai_dc\u001b[0m\u001b[39m:dc\u001b[0m\u001b[1m>\u001b[0m\u001b[1m<\u001b[0m\u001b[35m/\u001b[0m\u001b[95mmetadata\u001b[0m\u001b[1m>\u001b[0m\u001b[1m<\u001b[0m\u001b[35m/\u001b[0m\u001b[95mrecord\u001b[0m\u001b[1m>\u001b[0m\n",
       "\u001b[1m<\u001b[0m\u001b[1;95mrecord\u001b[0m\u001b[1m>\u001b[0m\u001b[1m<\u001b[0m\u001b[1;95mheader\u001b[0m\u001b[1m>\u001b[0m\u001b[1m<\u001b[0m\u001b[1;95midentifier\u001b[0m\u001b[1m>\u001b[0m\u001b[1;36m10.22000\u001b[0m/\u001b[1;36m714\u001b[0m\u001b[1m<\u001b[0m\u001b[35m/\u001b[0m\u001b[95midentifier\u001b[0m\u001b[1m>\u001b[0m\u001b[1m<\u001b[0m\u001b[1;95mdatestamp\u001b[0m\u001b[1m>\u001b[0m\u001b[1;36m2022\u001b[0m-\u001b[1;36m08\u001b[0m-25T\u001b[1;92m10:46:38\u001b[0mZ\u001b[1m<\u001b[0m\u001b[35m/\u001b[0m\u001b[95mdatestamp\u001b[0m\u001b[1m>\u001b[0m\u001b[1m<\u001b[0m\u001b[1;95msetSpec\u001b[0m\u001b[1m>\u001b[0mradar4cult\n",
       "ure\u001b[1m<\u001b[0m\u001b[35m/\u001b[0m\u001b[95msetSpec\u001b[0m\u001b[1m>\u001b[0m\u001b[1m<\u001b[0m\u001b[35m/\u001b[0m\u001b[95mheader\u001b[0m\u001b[1m>\u001b[0m\u001b[1m<\u001b[0m\u001b[1;95mmetadata\u001b[0m\u001b[1m>\u001b[0m<oai_\u001b[1;92mdc:dc\u001b[0m xmlns:\u001b[33mdc\u001b[0m=\u001b[32m\"http\u001b[0m\u001b[32m://purl.org/dc/elements/1.1/\"\u001b[0m\n",
       "           xmlns:\u001b[33moai_dc\u001b[0m=\u001b[35m\"\u001b[0m\u001b[4;94mhttp\u001b[0m\u001b[4;94m://w\u001b[0m\n"
      ]
     },
     "metadata": {},
     "output_type": "display_data"
    }
   ],
   "source": [
    "import httpx\n",
    "from rich import print\n",
    "\n",
    "OAI = \"https://www.radar-service.eu/oai/OAIHandler?verb=ListRecords&metadataPrefix=oai_dc&set=radar4culture\"\n",
    "r = httpx.get(OAI)\n",
    "if r.status_code == 200:\n",
    "    data = r.text\n",
    "    print(len(data))\n",
    "print(data[:2000])"
   ]
  },
  {
   "cell_type": "code",
   "execution_count": 7,
   "id": "a26ddb37",
   "metadata": {},
   "outputs": [],
   "source": [
    "import xml.etree.ElementTree as ET\n",
    "\n",
    "# Parse the XML string into an ElementTree object\n",
    "root = ET.fromstring(data)\n",
    "\n",
    "# Extract all record elements\n",
    "records = root.findall('.//{http://www.openarchives.org/OAI/2.0/}record')\n",
    "\n",
    "# Loop through the records and extract the metadata values\n",
    "buf = []\n",
    "for record in records:\n",
    "    metadata = record.find('.//{http://www.openarchives.org/OAI/2.0/}metadata/{http://www.openarchives.org/OAI/2.0/oai_dc/}dc')\n",
    "    record_dict = {}\n",
    "    for element in metadata:\n",
    "        key = element.tag.replace('{http://purl.org/dc/elements/1.1/}', '') # remove namespace from tag name\n",
    "        value = element.text\n",
    "        if value is not None:\n",
    "            record_dict.setdefault(key, []).append(value)\n",
    "    buf.append(record_dict)\n"
   ]
  },
  {
   "cell_type": "code",
   "execution_count": 8,
   "id": "9ecff9fc",
   "metadata": {},
   "outputs": [
    {
     "data": {
      "text/html": [
       "<pre style=\"white-space:pre;overflow-x:auto;line-height:normal;font-family:Menlo,'DejaVu Sans Mono',consolas,'Courier New',monospace\"><span style=\"font-weight: bold\">{</span>\n",
       "    <span style=\"color: #008000; text-decoration-color: #008000\">'identifier'</span>: <span style=\"font-weight: bold\">[</span><span style=\"color: #008000; text-decoration-color: #008000\">'10.22000/708'</span>, <span style=\"color: #008000; text-decoration-color: #008000\">'DOI'</span><span style=\"font-weight: bold\">]</span>,\n",
       "    <span style=\"color: #008000; text-decoration-color: #008000\">'creator'</span>: <span style=\"font-weight: bold\">[</span><span style=\"color: #008000; text-decoration-color: #008000\">'Zentrum für Geschichte der Psychologie der Universität Würzburg'</span><span style=\"font-weight: bold\">]</span>,\n",
       "    <span style=\"color: #008000; text-decoration-color: #008000\">'title'</span>: <span style=\"font-weight: bold\">[</span><span style=\"color: #008000; text-decoration-color: #008000\">'Stereoskop hemisphärisch'</span><span style=\"font-weight: bold\">]</span>,\n",
       "    <span style=\"color: #008000; text-decoration-color: #008000\">'publisher'</span>: <span style=\"font-weight: bold\">[</span><span style=\"color: #008000; text-decoration-color: #008000\">'Zentrum für Geschichte der Psychologie'</span><span style=\"font-weight: bold\">]</span>,\n",
       "    <span style=\"color: #008000; text-decoration-color: #008000\">'date'</span>: <span style=\"font-weight: bold\">[</span><span style=\"color: #008000; text-decoration-color: #008000\">'2022'</span><span style=\"font-weight: bold\">]</span>,\n",
       "    <span style=\"color: #008000; text-decoration-color: #008000\">'subject'</span>: <span style=\"font-weight: bold\">[</span><span style=\"color: #008000; text-decoration-color: #008000\">'Psychology'</span><span style=\"font-weight: bold\">]</span>,\n",
       "    <span style=\"color: #008000; text-decoration-color: #008000\">'type'</span>: <span style=\"font-weight: bold\">[</span><span style=\"color: #008000; text-decoration-color: #008000\">'Image'</span><span style=\"font-weight: bold\">]</span>,\n",
       "    <span style=\"color: #008000; text-decoration-color: #008000\">'rights'</span>: <span style=\"font-weight: bold\">[</span>\n",
       "        <span style=\"color: #008000; text-decoration-color: #008000\">'CC BY-SA 4.0 Attribution-ShareAlike'</span>,\n",
       "        <span style=\"color: #008000; text-decoration-color: #008000\">'Zentrum für Geschichte der Psychologie der Universität Würzburg'</span>\n",
       "    <span style=\"font-weight: bold\">]</span>,\n",
       "    <span style=\"color: #008000; text-decoration-color: #008000\">'description'</span>: <span style=\"font-weight: bold\">[</span><span style=\"color: #008000; text-decoration-color: #008000\">'Hersteller Underwood &amp; Underwood, USA'</span><span style=\"font-weight: bold\">]</span>,\n",
       "    <span style=\"color: #008000; text-decoration-color: #008000\">'format'</span>: <span style=\"font-weight: bold\">[</span><span style=\"color: #008000; text-decoration-color: #008000\">'application/zip'</span><span style=\"font-weight: bold\">]</span>\n",
       "<span style=\"font-weight: bold\">}</span>\n",
       "</pre>\n"
      ],
      "text/plain": [
       "\u001b[1m{\u001b[0m\n",
       "    \u001b[32m'identifier'\u001b[0m: \u001b[1m[\u001b[0m\u001b[32m'10.22000/708'\u001b[0m, \u001b[32m'DOI'\u001b[0m\u001b[1m]\u001b[0m,\n",
       "    \u001b[32m'creator'\u001b[0m: \u001b[1m[\u001b[0m\u001b[32m'Zentrum für Geschichte der Psychologie der Universität Würzburg'\u001b[0m\u001b[1m]\u001b[0m,\n",
       "    \u001b[32m'title'\u001b[0m: \u001b[1m[\u001b[0m\u001b[32m'Stereoskop hemisphärisch'\u001b[0m\u001b[1m]\u001b[0m,\n",
       "    \u001b[32m'publisher'\u001b[0m: \u001b[1m[\u001b[0m\u001b[32m'Zentrum für Geschichte der Psychologie'\u001b[0m\u001b[1m]\u001b[0m,\n",
       "    \u001b[32m'date'\u001b[0m: \u001b[1m[\u001b[0m\u001b[32m'2022'\u001b[0m\u001b[1m]\u001b[0m,\n",
       "    \u001b[32m'subject'\u001b[0m: \u001b[1m[\u001b[0m\u001b[32m'Psychology'\u001b[0m\u001b[1m]\u001b[0m,\n",
       "    \u001b[32m'type'\u001b[0m: \u001b[1m[\u001b[0m\u001b[32m'Image'\u001b[0m\u001b[1m]\u001b[0m,\n",
       "    \u001b[32m'rights'\u001b[0m: \u001b[1m[\u001b[0m\n",
       "        \u001b[32m'CC BY-SA 4.0 Attribution-ShareAlike'\u001b[0m,\n",
       "        \u001b[32m'Zentrum für Geschichte der Psychologie der Universität Würzburg'\u001b[0m\n",
       "    \u001b[1m]\u001b[0m,\n",
       "    \u001b[32m'description'\u001b[0m: \u001b[1m[\u001b[0m\u001b[32m'Hersteller Underwood & Underwood, USA'\u001b[0m\u001b[1m]\u001b[0m,\n",
       "    \u001b[32m'format'\u001b[0m: \u001b[1m[\u001b[0m\u001b[32m'application/zip'\u001b[0m\u001b[1m]\u001b[0m\n",
       "\u001b[1m}\u001b[0m\n"
      ]
     },
     "metadata": {},
     "output_type": "display_data"
    }
   ],
   "source": [
    "print(buf[0])"
   ]
  },
  {
   "attachments": {},
   "cell_type": "markdown",
   "id": "7272b6cf",
   "metadata": {},
   "source": [
    "We can see that this XML fragment has very sparse metadata, and there are no IRIs used to map the values to controlled vocabularies.\n",
    "\n",
    "It is non-trivial to use the [RADAR API](https://radar.products.fiz-karlsruhe.de/de/radarfeatures/radar-api) - there it is necssary to register a user and supply tokens to make the calls.\n",
    "\n",
    "Does it contain more/better mappings, or should we somehow have an _external_ reconciliation of the strings to IRIs form the OAI-PMH data?"
   ]
  }
 ],
 "metadata": {
  "kernelspec": {
   "display_name": "Python 3 (ipykernel)",
   "language": "python",
   "name": "python3"
  },
  "language_info": {
   "codemirror_mode": {
    "name": "ipython",
    "version": 3
   },
   "file_extension": ".py",
   "mimetype": "text/x-python",
   "name": "python",
   "nbconvert_exporter": "python",
   "pygments_lexer": "ipython3",
   "version": "3.9.15"
  }
 },
 "nbformat": 4,
 "nbformat_minor": 5
}
