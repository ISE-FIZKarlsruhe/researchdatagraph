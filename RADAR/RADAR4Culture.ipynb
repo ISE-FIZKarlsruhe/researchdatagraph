{
 "cells": [
  {
   "cell_type": "code",
   "execution_count": 5,
   "id": "7ee99f19",
   "metadata": {},
   "outputs": [
    {
     "name": "stdout",
     "output_type": "stream",
     "text": [
      "41034\n",
      "<?xml version=\"1.0\" encoding=\"UTF-8\" ?><?xml-stylesheet type=\"text/xsl\" href=\"/oai/stylesheet\"?><OAI-PMH xmlns=\"http://www.openarchives.org/OAI/2.0/\" xmlns:xsi=\"http://www.w3.org/2001/XMLSchema-instance\" xsi:schemaLocation=\"http://www.openarchives.org/OAI/2.0/ http://www.openarchives.org/OAI/2.0/OAI-PMH.xsd\"><responseDate>2023-04-21T09:22:52Z</responseDate><request verb=\"ListRecords\" metadataPrefix=\"oai_dc\" set=\"radar4culture\">https://www.radar-service.eu/oai/OAIHandler</request><ListRecords>\n",
      "<record><header><identifier>10.22000/708</identifier><datestamp>2022-08-25T10:46:33Z</datestamp><setSpec>radar4culture</setSpec></header><metadata><oai_dc:dc xmlns:dc=\"http://purl.org/dc/elements/1.1/\"\n",
      "           xmlns:oai_dc=\"http://www.openarchives.org/OAI/2.0/oai_dc/\"\n",
      "           xmlns:xsi=\"http://www.w3.org/2001/XMLSchema-instance\"\n",
      "           xsi:schemaLocation=\"http://www.openarchives.org/OAI/2.0/oai_dc/ https://www.openarchives.org/OAI/2.0/oai_dc.xsd http://purl.org/dc/elements/1.1/ https://www.radar-service.eu/schemas/dc.xsd\">\n",
      "   <dc:identifier>10.22000/708</dc:identifier>\n",
      "   <dc:identifier>DOI</dc:identifier>\n",
      "   <dc:creator>Zentrum für Geschichte der Psychologie der Universität Würzburg</dc:creator>\n",
      "   <dc:title>Stereoskop hemisphärisch</dc:title>\n",
      "   <dc:publisher>Zentrum für Geschichte der Psychologie</dc:publisher>\n",
      "   <dc:date>2022</dc:date>\n",
      "   <dc:subject>Psychology</dc:subject>\n",
      "   <dc:type/>\n",
      "   <dc:type>Image</dc:type>\n",
      "   <dc:rights>CC BY-SA 4.0 Attribution-ShareAlike</dc:rights>\n",
      "   <dc:rights>Zentrum für Geschichte der Psychologie der Universität Würzburg</dc:rights>\n",
      "   <dc:description>Hersteller Underwood &amp; Underwood, USA</dc:description>\n",
      "   <dc:language/>\n",
      "   <dc:format>application/zip</dc:format>\n",
      "</oai_dc:dc></metadata></record>\n",
      "<record><header><identifier>10.22000/714</identifier><datestamp>2022-08-25T10:46:38Z</datestamp><setSpec>radar4culture</setSpec></header><metadata><oai_dc:dc xmlns:dc=\"http://purl.org/dc/elements/1.1/\"\n",
      "           xmlns:oai_dc=\"http://w\n"
     ]
    }
   ],
   "source": [
    "import httpx\n",
    "\n",
    "OAI = \"https://www.radar-service.eu/oai/OAIHandler?verb=ListRecords&metadataPrefix=oai_dc&set=radar4culture\"\n",
    "r = httpx.get(OAI)\n",
    "if r.status_code == 200:\n",
    "    data = r.text\n",
    "    print(len(data))\n",
    "print(data[:2000])"
   ]
  },
  {
   "cell_type": "code",
   "execution_count": 11,
   "id": "a26ddb37",
   "metadata": {},
   "outputs": [],
   "source": [
    "import xml.etree.ElementTree as ET\n",
    "\n",
    "# Parse the XML string into an ElementTree object\n",
    "root = ET.fromstring(data)\n",
    "\n",
    "# Extract all record elements\n",
    "records = root.findall('.//{http://www.openarchives.org/OAI/2.0/}record')\n",
    "\n",
    "# Loop through the records and extract the metadata values\n",
    "buf = []\n",
    "for record in records:\n",
    "    metadata = record.find('.//{http://www.openarchives.org/OAI/2.0/}metadata/{http://www.openarchives.org/OAI/2.0/oai_dc/}dc')\n",
    "    record_dict = {}\n",
    "    for element in metadata:\n",
    "        key = element.tag.replace('{http://purl.org/dc/elements/1.1/}', '') # remove namespace from tag name\n",
    "        value = element.text\n",
    "        if value is not None:\n",
    "            record_dict.setdefault(key, []).append(value)\n",
    "    buf.append(record_dict)\n"
   ]
  },
  {
   "cell_type": "code",
   "execution_count": 14,
   "id": "9ecff9fc",
   "metadata": {},
   "outputs": [
    {
     "data": {
      "text/html": [
       "<pre style=\"white-space:pre;overflow-x:auto;line-height:normal;font-family:Menlo,'DejaVu Sans Mono',consolas,'Courier New',monospace\"><span style=\"color: #008080; text-decoration-color: #008080; font-weight: bold\">29</span> <span style=\"color: #008080; text-decoration-color: #008080; font-weight: bold\">29</span>\n",
       "</pre>\n"
      ],
      "text/plain": [
       "\u001b[1;36m29\u001b[0m \u001b[1;36m29\u001b[0m\n"
      ]
     },
     "metadata": {},
     "output_type": "display_data"
    },
    {
     "data": {
      "text/html": [
       "<pre style=\"white-space:pre;overflow-x:auto;line-height:normal;font-family:Menlo,'DejaVu Sans Mono',consolas,'Courier New',monospace\"><span style=\"font-weight: bold\">{</span>\n",
       "    <span style=\"color: #008000; text-decoration-color: #008000\">'identifier'</span>: <span style=\"font-weight: bold\">[</span><span style=\"color: #008000; text-decoration-color: #008000\">'10.22000/708'</span>, <span style=\"color: #008000; text-decoration-color: #008000\">'DOI'</span><span style=\"font-weight: bold\">]</span>,\n",
       "    <span style=\"color: #008000; text-decoration-color: #008000\">'creator'</span>: <span style=\"font-weight: bold\">[</span><span style=\"color: #008000; text-decoration-color: #008000\">'Zentrum für Geschichte der Psychologie der Universität Würzburg'</span><span style=\"font-weight: bold\">]</span>,\n",
       "    <span style=\"color: #008000; text-decoration-color: #008000\">'title'</span>: <span style=\"font-weight: bold\">[</span><span style=\"color: #008000; text-decoration-color: #008000\">'Stereoskop hemisphärisch'</span><span style=\"font-weight: bold\">]</span>,\n",
       "    <span style=\"color: #008000; text-decoration-color: #008000\">'publisher'</span>: <span style=\"font-weight: bold\">[</span><span style=\"color: #008000; text-decoration-color: #008000\">'Zentrum für Geschichte der Psychologie'</span><span style=\"font-weight: bold\">]</span>,\n",
       "    <span style=\"color: #008000; text-decoration-color: #008000\">'date'</span>: <span style=\"font-weight: bold\">[</span><span style=\"color: #008000; text-decoration-color: #008000\">'2022'</span><span style=\"font-weight: bold\">]</span>,\n",
       "    <span style=\"color: #008000; text-decoration-color: #008000\">'subject'</span>: <span style=\"font-weight: bold\">[</span><span style=\"color: #008000; text-decoration-color: #008000\">'Psychology'</span><span style=\"font-weight: bold\">]</span>,\n",
       "    <span style=\"color: #008000; text-decoration-color: #008000\">'type'</span>: <span style=\"font-weight: bold\">[</span><span style=\"color: #008000; text-decoration-color: #008000\">'Image'</span><span style=\"font-weight: bold\">]</span>,\n",
       "    <span style=\"color: #008000; text-decoration-color: #008000\">'rights'</span>: <span style=\"font-weight: bold\">[</span>\n",
       "        <span style=\"color: #008000; text-decoration-color: #008000\">'CC BY-SA 4.0 Attribution-ShareAlike'</span>,\n",
       "        <span style=\"color: #008000; text-decoration-color: #008000\">'Zentrum für Geschichte der Psychologie der Universität Würzburg'</span>\n",
       "    <span style=\"font-weight: bold\">]</span>,\n",
       "    <span style=\"color: #008000; text-decoration-color: #008000\">'description'</span>: <span style=\"font-weight: bold\">[</span><span style=\"color: #008000; text-decoration-color: #008000\">'Hersteller Underwood &amp; Underwood, USA'</span><span style=\"font-weight: bold\">]</span>,\n",
       "    <span style=\"color: #008000; text-decoration-color: #008000\">'format'</span>: <span style=\"font-weight: bold\">[</span><span style=\"color: #008000; text-decoration-color: #008000\">'application/zip'</span><span style=\"font-weight: bold\">]</span>\n",
       "<span style=\"font-weight: bold\">}</span>\n",
       "</pre>\n"
      ],
      "text/plain": [
       "\u001b[1m{\u001b[0m\n",
       "    \u001b[32m'identifier'\u001b[0m: \u001b[1m[\u001b[0m\u001b[32m'10.22000/708'\u001b[0m, \u001b[32m'DOI'\u001b[0m\u001b[1m]\u001b[0m,\n",
       "    \u001b[32m'creator'\u001b[0m: \u001b[1m[\u001b[0m\u001b[32m'Zentrum für Geschichte der Psychologie der Universität Würzburg'\u001b[0m\u001b[1m]\u001b[0m,\n",
       "    \u001b[32m'title'\u001b[0m: \u001b[1m[\u001b[0m\u001b[32m'Stereoskop hemisphärisch'\u001b[0m\u001b[1m]\u001b[0m,\n",
       "    \u001b[32m'publisher'\u001b[0m: \u001b[1m[\u001b[0m\u001b[32m'Zentrum für Geschichte der Psychologie'\u001b[0m\u001b[1m]\u001b[0m,\n",
       "    \u001b[32m'date'\u001b[0m: \u001b[1m[\u001b[0m\u001b[32m'2022'\u001b[0m\u001b[1m]\u001b[0m,\n",
       "    \u001b[32m'subject'\u001b[0m: \u001b[1m[\u001b[0m\u001b[32m'Psychology'\u001b[0m\u001b[1m]\u001b[0m,\n",
       "    \u001b[32m'type'\u001b[0m: \u001b[1m[\u001b[0m\u001b[32m'Image'\u001b[0m\u001b[1m]\u001b[0m,\n",
       "    \u001b[32m'rights'\u001b[0m: \u001b[1m[\u001b[0m\n",
       "        \u001b[32m'CC BY-SA 4.0 Attribution-ShareAlike'\u001b[0m,\n",
       "        \u001b[32m'Zentrum für Geschichte der Psychologie der Universität Würzburg'\u001b[0m\n",
       "    \u001b[1m]\u001b[0m,\n",
       "    \u001b[32m'description'\u001b[0m: \u001b[1m[\u001b[0m\u001b[32m'Hersteller Underwood & Underwood, USA'\u001b[0m\u001b[1m]\u001b[0m,\n",
       "    \u001b[32m'format'\u001b[0m: \u001b[1m[\u001b[0m\u001b[32m'application/zip'\u001b[0m\u001b[1m]\u001b[0m\n",
       "\u001b[1m}\u001b[0m\n"
      ]
     },
     "metadata": {},
     "output_type": "display_data"
    }
   ],
   "source": [
    "from rich import print\n",
    "print(len(buf), len(records))\n",
    "print(buf[0])"
   ]
  }
 ],
 "metadata": {
  "kernelspec": {
   "display_name": "Python 3 (ipykernel)",
   "language": "python",
   "name": "python3"
  },
  "language_info": {
   "codemirror_mode": {
    "name": "ipython",
    "version": 3
   },
   "file_extension": ".py",
   "mimetype": "text/x-python",
   "name": "python",
   "nbconvert_exporter": "python",
   "pygments_lexer": "ipython3",
   "version": "3.9.15"
  }
 },
 "nbformat": 4,
 "nbformat_minor": 5
}
