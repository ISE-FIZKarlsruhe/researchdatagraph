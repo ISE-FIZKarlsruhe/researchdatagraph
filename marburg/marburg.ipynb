{
 "cells": [
  {
   "cell_type": "code",
   "execution_count": 1,
   "metadata": {},
   "outputs": [
    {
     "name": "stdout",
     "output_type": "stream",
     "text": [
      "110654\n"
     ]
    }
   ],
   "source": [
    "from rdflib import *\n",
    "g = Graph()\n",
    "g.parse(\"CGIF_Marburg_2023-04-26__proposal.json\", format=\"json-ld\")\n",
    "print(len(g))"
   ]
  },
  {
   "cell_type": "code",
   "execution_count": 7,
   "metadata": {},
   "outputs": [
    {
     "name": "stdout",
     "output_type": "stream",
     "text": [
      "http://id.bildindex.de/thing/0001482652 http://schema.org/genre http://vocab.getty.edu/aat/300033644\n",
      "http://id.bildindex.de/thing/0001305929 http://schema.org/keywords http://partage.vocnet.org/00151\n",
      "http://id.bildindex.de/thing/0001483273 http://schema.org/keywords https://d-nb.info/gnd/4046277-8\n",
      "http://id.bildindex.de/thing/0001305622 http://www.w3.org/1999/02/22-rdf-syntax-ns#type http://schema.org/CreativeWork\n",
      "http://id.bildindex.de/thing/0001482635 http://schema.org/keywords https://iconclass.org/11M43\n",
      "http://vocab.getty.edu/ulan/500122399 http://www.w3.org/1999/02/22-rdf-syntax-ns#type http://schema.org/DefinedTerm\n",
      "http://partage.vocnet.org/01306 http://www.w3.org/1999/02/22-rdf-syntax-ns#type http://schema.org/DefinedTerm\n",
      "http://id.bildindex.de/thing/0001303782 http://schema.org/keywords http://vocab.getty.edu/aat/300263552\n",
      "http://id.bildindex.de/thing/0001301399 http://www.w3.org/1999/02/22-rdf-syntax-ns#type http://schema.org/CreativeWork\n",
      "http://id.bildindex.de/thing/0001302723 http://schema.org/keywords http://vocab.getty.edu/tgn/7005286\n",
      "http://id.bildindex.de/thing/0001305885 http://schema.org/keywords https://d-nb.info/gnd/4217660-8\n",
      "http://id.bildindex.de/thing/0001521645 http://schema.org/keywords https://iconclass.org/41C3271\n",
      "https://www.bildindex.de/ http://schema.org/dataFeedElement Nc8e6f01c45cb4beaa5f7873e0db560d0\n",
      "http://id.bildindex.de/thing/0001521119 http://schema.org/genre https://d-nb.info/gnd/7593577-6\n",
      "http://id.bildindex.de/thing/0001325229 http://schema.org/keywords http://vocab.getty.edu/tgn/7005286\n",
      "http://id.bildindex.de/thing/0001325240 http://schema.org/keywords https://d-nb.info/gnd/4002851-3\n",
      "http://id.bildindex.de/thing/0001305609 http://schema.org/name Wohnhaus, Bremen, Öwerweg 70\n",
      "https://d-nb.info/gnd/4142836-5 http://www.w3.org/1999/02/22-rdf-syntax-ns#type http://schema.org/DefinedTerm\n",
      "http://id.bildindex.de/thing/0000104409 http://schema.org/creator http://id.bildindex.de/person/unbekannt\n",
      "http://id.bildindex.de/thing/0001304200 http://schema.org/containedInPlace http://id.bildindex.de/place/Bremen\n"
     ]
    }
   ],
   "source": [
    "idx = 0\n",
    "for s,p,o in g.triples((None, None, None)):\n",
    "    print(s,p,o)\n",
    "    idx += 1\n",
    "    if idx > 19:\n",
    "        break"
   ]
  },
  {
   "cell_type": "code",
   "execution_count": 8,
   "metadata": {},
   "outputs": [
    {
     "data": {
      "text/plain": [
       "5579823"
      ]
     },
     "execution_count": 8,
     "metadata": {},
     "output_type": "execute_result"
    }
   ],
   "source": [
    "open(\"CGIF_Marburg_2023-04-26__proposal.ttl\", \"w\").write(g.serialize())"
   ]
  },
  {
   "cell_type": "code",
   "execution_count": 5,
   "metadata": {},
   "outputs": [
    {
     "name": "stdout",
     "output_type": "stream",
     "text": [
      "{\n",
      "    \"@context\": {\"schema\": \"http://schema.org/\"},\n",
      "    \"@lang\": \"de\",\n",
      "    \"@id\": \"https://www.bildindex.de/\",\n",
      "    \"@type\": \"schema:Dataset\",\n",
      "    \"schema:name\": \"Objektdatenbankschema:Dataset\",\n",
      "    \"schema:additionalType\": \"schema:DataFeed\",\n",
      "    \"schema:includedInDataCatalog\": {\n",
      "        \"@id\": \"https://www.bildindex.de/\",\n",
      "        \"@type\": \"schema:DataCatalog\",\n",
      "        \"schema:name\": \"Bildindex der Kunst und Architektur\",\n",
      "        \"schema:publisher\": {\n",
      "            \"@id\": \"https://nfdi4culture.de/id/E1884\",\n",
      "            \"@type\": \"schema:Organization\"\n",
      "        }\n",
      "    },\n",
      "    \"schema:dataFeedElement\": [\n",
      "        {\n",
      "            \"@type\": \"schema:DataFeedItem\",\n",
      "            \"schema:item\": {\n",
      "                \"@lang\": \"de\",\n",
      "                \"@id\": \"http://id.bildindex.de/thing/0001304722\",\n",
      "                \"@type\": \"schema:CreativeWork\",\n",
      "                \"schema:additionalType\": \"schema:LandmarksOrHistoricalBuildings\",\n",
      "                \"schema:name\": \"Wohnhaus, Bremen, Hoppenbank 3\",\n",
      "                \"schema\n"
     ]
    }
   ],
   "source": [
    "raw = open(\"CGIF_Marburg_2023-04-26__proposal.json\").read()\n",
    "print(raw[:1000])"
   ]
  },
  {
   "cell_type": "code",
   "execution_count": 6,
   "metadata": {},
   "outputs": [
    {
     "name": "stdout",
     "output_type": "stream",
     "text": [
      "---8<---\n",
      "schema:inDefinedTermSet\": \"https://d-nb.info/standards/elementset/gnd#\"\n",
      "                    },\n",
      "                    {\n",
      "                        \"@id\": \"http://vocab.getty.edu/aat/300263552\",\n",
      "                        \"@type\": \"schema:DefinedTerm\",\n",
      "                        \"schema:inDefinedTermSet\": \"http://vocab.getty.edu/aat/\"\n",
      "                    },\n",
      "                    {\n",
      "                        \"@id\": \"https://d-nb.info/gnd/4002851-3\",\n",
      "                        \"@type\": \"schema:DefinedTerm\",\n",
      "                        \"schema:inDefinedTermSet\": \"https://d-nb.info/standards/elementset/gnd#\"\n",
      "                    },\n",
      "                    {\n",
      "                        \"@id\": \"http://vocab.getty.edu/aat/300005433\",\n",
      "                        \"@type\": \"schema:DefinedTerm\",\n",
      "                        \"schema:inDefinedTermSet\": \"http://vocab.getty.edu/aat/\"\n",
      "                    },\n",
      "                    {\n",
      "                        \"@id\": \"http://partage.vocnet.org/00151\",\n",
      "                        \"@type\": \"schema:DefinedTe\n"
     ]
    }
   ],
   "source": [
    "print(\"---8<---\")\n",
    "print(raw[2000:3000])"
   ]
  }
 ],
 "metadata": {
  "kernelspec": {
   "display_name": "p39",
   "language": "python",
   "name": "python3"
  },
  "language_info": {
   "codemirror_mode": {
    "name": "ipython",
    "version": 3
   },
   "file_extension": ".py",
   "mimetype": "text/x-python",
   "name": "python",
   "nbconvert_exporter": "python",
   "pygments_lexer": "ipython3",
   "version": "3.9.15"
  },
  "orig_nbformat": 4
 },
 "nbformat": 4,
 "nbformat_minor": 2
}
